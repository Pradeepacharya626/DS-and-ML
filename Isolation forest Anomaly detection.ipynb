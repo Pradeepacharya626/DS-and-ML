{
 "cells": [
  {
   "cell_type": "code",
   "execution_count": null,
   "id": "a39f69cc-7ac8-4fe9-987c-66623d23de2f",
   "metadata": {},
   "outputs": [],
   "source": [
    "from sklearn.ensemble import IsolationForest\n",
    "clf = IsolationForest(contamination=0.2)\n",
    "clf.fit(df)\n",
    "predictions = clf.predict(df)"
   ]
  },
  {
   "cell_type": "code",
   "execution_count": null,
   "id": "9e697513-8846-40a1-bf04-e6243e18882e",
   "metadata": {},
   "outputs": [],
   "source": [
    "import numpy as np\n",
    "abn_ind = np.where(predictions<0)"
   ]
  }
 ],
 "metadata": {
  "kernelspec": {
   "display_name": "Python 3 (ipykernel)",
   "language": "python",
   "name": "python3"
  },
  "language_info": {
   "codemirror_mode": {
    "name": "ipython",
    "version": 3
   },
   "file_extension": ".py",
   "mimetype": "text/x-python",
   "name": "python",
   "nbconvert_exporter": "python",
   "pygments_lexer": "ipython3",
   "version": "3.11.7"
  }
 },
 "nbformat": 4,
 "nbformat_minor": 5
}
