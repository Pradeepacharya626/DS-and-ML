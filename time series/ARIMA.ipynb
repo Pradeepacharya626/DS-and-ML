{
 "cells": [
  {
   "cell_type": "code",
   "execution_count": 1,
   "id": "b0e7ffd0-8fd8-4989-9e4a-d0951a3b753a",
   "metadata": {},
   "outputs": [],
   "source": [
    "import pandas as pd\n",
    "import matplotlib.pyplot as plt\n",
    "import statsmodels.api as sms\n",
    "import seaborn as sns"
   ]
  },
  {
   "cell_type": "code",
   "execution_count": 2,
   "id": "1ac7028c-ca63-4055-8445-245b6e9dc21d",
   "metadata": {},
   "outputs": [],
   "source": [
    "df_airline = pd.read_csv(\"airline_passengers.csv\")"
   ]
  },
  {
   "cell_type": "code",
   "execution_count": 3,
   "id": "56c2e8db-03cc-48b9-891b-02c523ee8b01",
   "metadata": {},
   "outputs": [
    {
     "data": {
      "text/html": [
       "<div>\n",
       "<style scoped>\n",
       "    .dataframe tbody tr th:only-of-type {\n",
       "        vertical-align: middle;\n",
       "    }\n",
       "\n",
       "    .dataframe tbody tr th {\n",
       "        vertical-align: top;\n",
       "    }\n",
       "\n",
       "    .dataframe thead th {\n",
       "        text-align: right;\n",
       "    }\n",
       "</style>\n",
       "<table border=\"1\" class=\"dataframe\">\n",
       "  <thead>\n",
       "    <tr style=\"text-align: right;\">\n",
       "      <th></th>\n",
       "      <th>Month</th>\n",
       "      <th>Thousands of Passengers</th>\n",
       "    </tr>\n",
       "  </thead>\n",
       "  <tbody>\n",
       "    <tr>\n",
       "      <th>0</th>\n",
       "      <td>1949-01</td>\n",
       "      <td>112.0</td>\n",
       "    </tr>\n",
       "    <tr>\n",
       "      <th>1</th>\n",
       "      <td>1949-02</td>\n",
       "      <td>118.0</td>\n",
       "    </tr>\n",
       "    <tr>\n",
       "      <th>2</th>\n",
       "      <td>1949-03</td>\n",
       "      <td>132.0</td>\n",
       "    </tr>\n",
       "    <tr>\n",
       "      <th>3</th>\n",
       "      <td>1949-04</td>\n",
       "      <td>129.0</td>\n",
       "    </tr>\n",
       "    <tr>\n",
       "      <th>4</th>\n",
       "      <td>1949-05</td>\n",
       "      <td>121.0</td>\n",
       "    </tr>\n",
       "  </tbody>\n",
       "</table>\n",
       "</div>"
      ],
      "text/plain": [
       "     Month  Thousands of Passengers\n",
       "0  1949-01                    112.0\n",
       "1  1949-02                    118.0\n",
       "2  1949-03                    132.0\n",
       "3  1949-04                    129.0\n",
       "4  1949-05                    121.0"
      ]
     },
     "execution_count": 3,
     "metadata": {},
     "output_type": "execute_result"
    }
   ],
   "source": [
    "df_airline.head()"
   ]
  },
  {
   "cell_type": "code",
   "execution_count": 4,
   "id": "271faab5-4a83-46c2-9ba2-6c0c5d575d12",
   "metadata": {},
   "outputs": [
    {
     "data": {
      "text/plain": [
       "Month                      0\n",
       "Thousands of Passengers    1\n",
       "dtype: int64"
      ]
     },
     "execution_count": 4,
     "metadata": {},
     "output_type": "execute_result"
    }
   ],
   "source": [
    "df_airline.isnull().sum()"
   ]
  },
  {
   "cell_type": "code",
   "execution_count": 5,
   "id": "4e88ec80-86d0-4772-8994-3e4b979eebd4",
   "metadata": {},
   "outputs": [
    {
     "data": {
      "text/html": [
       "<div>\n",
       "<style scoped>\n",
       "    .dataframe tbody tr th:only-of-type {\n",
       "        vertical-align: middle;\n",
       "    }\n",
       "\n",
       "    .dataframe tbody tr th {\n",
       "        vertical-align: top;\n",
       "    }\n",
       "\n",
       "    .dataframe thead th {\n",
       "        text-align: right;\n",
       "    }\n",
       "</style>\n",
       "<table border=\"1\" class=\"dataframe\">\n",
       "  <thead>\n",
       "    <tr style=\"text-align: right;\">\n",
       "      <th></th>\n",
       "      <th>Month</th>\n",
       "      <th>Thousands of Passengers</th>\n",
       "    </tr>\n",
       "  </thead>\n",
       "  <tbody>\n",
       "    <tr>\n",
       "      <th>140</th>\n",
       "      <td>1960-09</td>\n",
       "      <td>508.0</td>\n",
       "    </tr>\n",
       "    <tr>\n",
       "      <th>141</th>\n",
       "      <td>1960-10</td>\n",
       "      <td>461.0</td>\n",
       "    </tr>\n",
       "    <tr>\n",
       "      <th>142</th>\n",
       "      <td>1960-11</td>\n",
       "      <td>390.0</td>\n",
       "    </tr>\n",
       "    <tr>\n",
       "      <th>143</th>\n",
       "      <td>1960-12</td>\n",
       "      <td>432.0</td>\n",
       "    </tr>\n",
       "    <tr>\n",
       "      <th>144</th>\n",
       "      <td>International airline passengers: monthly tota...</td>\n",
       "      <td>NaN</td>\n",
       "    </tr>\n",
       "  </tbody>\n",
       "</table>\n",
       "</div>"
      ],
      "text/plain": [
       "                                                 Month  \\\n",
       "140                                            1960-09   \n",
       "141                                            1960-10   \n",
       "142                                            1960-11   \n",
       "143                                            1960-12   \n",
       "144  International airline passengers: monthly tota...   \n",
       "\n",
       "     Thousands of Passengers  \n",
       "140                    508.0  \n",
       "141                    461.0  \n",
       "142                    390.0  \n",
       "143                    432.0  \n",
       "144                      NaN  "
      ]
     },
     "execution_count": 5,
     "metadata": {},
     "output_type": "execute_result"
    }
   ],
   "source": [
    "df_airline.tail()"
   ]
  },
  {
   "cell_type": "code",
   "execution_count": 6,
   "id": "c725de03-a8ce-4d19-ade2-185ab2c4d3d0",
   "metadata": {},
   "outputs": [],
   "source": [
    "df_airline.dropna(axis=0,inplace=True)"
   ]
  },
  {
   "cell_type": "code",
   "execution_count": 7,
   "id": "dcf5cf79-9bf1-44e5-b698-45a8791d697a",
   "metadata": {},
   "outputs": [
    {
     "name": "stdout",
     "output_type": "stream",
     "text": [
      "<class 'pandas.core.frame.DataFrame'>\n",
      "Index: 144 entries, 0 to 143\n",
      "Data columns (total 2 columns):\n",
      " #   Column                   Non-Null Count  Dtype  \n",
      "---  ------                   --------------  -----  \n",
      " 0   Month                    144 non-null    object \n",
      " 1   Thousands of Passengers  144 non-null    float64\n",
      "dtypes: float64(1), object(1)\n",
      "memory usage: 3.4+ KB\n"
     ]
    }
   ],
   "source": [
    "df_airline.info()"
   ]
  },
  {
   "cell_type": "code",
   "execution_count": 8,
   "id": "9d33f6b6-11ee-4f6f-928b-4f7e56d4d2ed",
   "metadata": {},
   "outputs": [],
   "source": [
    "df_airline['Month'] = pd.to_datetime(df_airline['Month'])"
   ]
  },
  {
   "cell_type": "code",
   "execution_count": 9,
   "id": "3d4c861d-52ac-4287-a2af-b08a0d3844ac",
   "metadata": {},
   "outputs": [
    {
     "name": "stdout",
     "output_type": "stream",
     "text": [
      "<class 'pandas.core.frame.DataFrame'>\n",
      "Index: 144 entries, 0 to 143\n",
      "Data columns (total 2 columns):\n",
      " #   Column                   Non-Null Count  Dtype         \n",
      "---  ------                   --------------  -----         \n",
      " 0   Month                    144 non-null    datetime64[ns]\n",
      " 1   Thousands of Passengers  144 non-null    float64       \n",
      "dtypes: datetime64[ns](1), float64(1)\n",
      "memory usage: 3.4 KB\n"
     ]
    }
   ],
   "source": [
    "df_airline.info()"
   ]
  },
  {
   "cell_type": "code",
   "execution_count": 10,
   "id": "8ede89d2-0b49-4cc8-83f4-f7b0b2db5fda",
   "metadata": {},
   "outputs": [],
   "source": [
    "df_airline.set_index(\"Month\",inplace=True)"
   ]
  },
  {
   "cell_type": "code",
   "execution_count": 11,
   "id": "9aa95cd8-4fd8-4ff8-a770-48affcfe0e5f",
   "metadata": {},
   "outputs": [
    {
     "data": {
      "text/html": [
       "<div>\n",
       "<style scoped>\n",
       "    .dataframe tbody tr th:only-of-type {\n",
       "        vertical-align: middle;\n",
       "    }\n",
       "\n",
       "    .dataframe tbody tr th {\n",
       "        vertical-align: top;\n",
       "    }\n",
       "\n",
       "    .dataframe thead th {\n",
       "        text-align: right;\n",
       "    }\n",
       "</style>\n",
       "<table border=\"1\" class=\"dataframe\">\n",
       "  <thead>\n",
       "    <tr style=\"text-align: right;\">\n",
       "      <th></th>\n",
       "      <th>Thousands of Passengers</th>\n",
       "    </tr>\n",
       "    <tr>\n",
       "      <th>Month</th>\n",
       "      <th></th>\n",
       "    </tr>\n",
       "  </thead>\n",
       "  <tbody>\n",
       "    <tr>\n",
       "      <th>1949-01-01</th>\n",
       "      <td>112.0</td>\n",
       "    </tr>\n",
       "    <tr>\n",
       "      <th>1949-02-01</th>\n",
       "      <td>118.0</td>\n",
       "    </tr>\n",
       "    <tr>\n",
       "      <th>1949-03-01</th>\n",
       "      <td>132.0</td>\n",
       "    </tr>\n",
       "    <tr>\n",
       "      <th>1949-04-01</th>\n",
       "      <td>129.0</td>\n",
       "    </tr>\n",
       "    <tr>\n",
       "      <th>1949-05-01</th>\n",
       "      <td>121.0</td>\n",
       "    </tr>\n",
       "  </tbody>\n",
       "</table>\n",
       "</div>"
      ],
      "text/plain": [
       "            Thousands of Passengers\n",
       "Month                              \n",
       "1949-01-01                    112.0\n",
       "1949-02-01                    118.0\n",
       "1949-03-01                    132.0\n",
       "1949-04-01                    129.0\n",
       "1949-05-01                    121.0"
      ]
     },
     "execution_count": 11,
     "metadata": {},
     "output_type": "execute_result"
    }
   ],
   "source": [
    "df_airline.head()"
   ]
  },
  {
   "cell_type": "code",
   "execution_count": 12,
   "id": "37949cc8-e4c5-4e1b-b57b-f30cc8c35323",
   "metadata": {},
   "outputs": [
    {
     "data": {
      "text/plain": [
       "<Axes: xlabel='Month'>"
      ]
     },
     "execution_count": 12,
     "metadata": {},
     "output_type": "execute_result"
    },
    {
     "data": {
      "image/png": "[encoded data removed]",
      "text/plain": [
       "<Figure size 640x480 with 1 Axes>"
      ]
     },
     "metadata": {},
     "output_type": "display_data"
    }
   ],
   "source": [
    "df_airline.plot()"
   ]
  },
  {
   "cell_type": "code",
   "execution_count": 13,
   "id": "c9f55955-46e2-4874-93cb-61ee0b617487",
   "metadata": {},
   "outputs": [],
   "source": [
    "from statsmodels.tsa.stattools import adfuller"
   ]
  },
  {
   "cell_type": "code",
   "execution_count": 14,
   "id": "2d5b4592-eb8b-4224-bb76-415e36a1207a",
   "metadata": {},
   "outputs": [],
   "source": [
    "def adf_test(series) :\n",
    "    result = adfuller(series)\n",
    "    print('ADF Statistics : {}'.format(result[0]))\n",
    "    print('p-value : {}'.format(result[1]))\n",
    "    if result[1] <= 0.05 :\n",
    "        print(\"strong evidance agaist the null hyphothesis, reject the null hypothesis\")\n",
    "    else :\n",
    "        print(\"weak evidance agaist the null hyphothesis, accept the null hypothesis\")"
   ]
  },
  {
   "cell_type": "code",
   "execution_count": 15,
   "id": "b66303ed-a2cb-4367-9f45-fd38aafeef2e",
   "metadata": {},
   "outputs": [
    {
     "name": "stdout",
     "output_type": "stream",
     "text": [
      "ADF Statistics : 0.8153688792060597\n",
      "p-value : 0.9918802434376411\n",
      "weak evidance agaist the null hyphothesis, accept the null hypothesis\n"
     ]
    }
   ],
   "source": [
    "adf_test(df_airline[\"Thousands of Passengers\"])"
   ]
  },
  {
   "cell_type": "markdown",
   "id": "0a0f35e5-119e-4795-abfa-803c0a989896",
   "metadata": {},
   "source": [
    "##### (Null hypothesis is data is not stationary)"
   ]
  },
  {
   "cell_type": "markdown",
   "id": "8999c366-75af-4355-9d6f-ffcef09c27d8",
   "metadata": {},
   "source": [
    "## Differencing"
   ]
  },
  {
   "cell_type": "code",
   "execution_count": 16,
   "id": "8622e841-311a-4045-85d1-71e034f2b943",
   "metadata": {},
   "outputs": [],
   "source": [
    "df_airline[\"Passengers First Difference\"] = df_airline[\"Thousands of Passengers\"] - df_airline[\"Thousands of Passengers\"].shift(1)"
   ]
  },
  {
   "cell_type": "code",
   "execution_count": 17,
   "id": "3621dcb7-c045-49c3-972d-82b596b9f816",
   "metadata": {},
   "outputs": [
    {
     "data": {
      "text/html": [
       "<div>\n",
       "<style scoped>\n",
       "    .dataframe tbody tr th:only-of-type {\n",
       "        vertical-align: middle;\n",
       "    }\n",
       "\n",
       "    .dataframe tbody tr th {\n",
       "        vertical-align: top;\n",
       "    }\n",
       "\n",
       "    .dataframe thead th {\n",
       "        text-align: right;\n",
       "    }\n",
       "</style>\n",
       "<table border=\"1\" class=\"dataframe\">\n",
       "  <thead>\n",
       "    <tr style=\"text-align: right;\">\n",
       "      <th></th>\n",
       "      <th>Thousands of Passengers</th>\n",
       "      <th>Passengers First Difference</th>\n",
       "    </tr>\n",
       "    <tr>\n",
       "      <th>Month</th>\n",
       "      <th></th>\n",
       "      <th></th>\n",
       "    </tr>\n",
       "  </thead>\n",
       "  <tbody>\n",
       "    <tr>\n",
       "      <th>1949-01-01</th>\n",
       "      <td>112.0</td>\n",
       "      <td>NaN</td>\n",
       "    </tr>\n",
       "    <tr>\n",
       "      <th>1949-02-01</th>\n",
       "      <td>118.0</td>\n",
       "      <td>6.0</td>\n",
       "    </tr>\n",
       "    <tr>\n",
       "      <th>1949-03-01</th>\n",
       "      <td>132.0</td>\n",
       "      <td>14.0</td>\n",
       "    </tr>\n",
       "    <tr>\n",
       "      <th>1949-04-01</th>\n",
       "      <td>129.0</td>\n",
       "      <td>-3.0</td>\n",
       "    </tr>\n",
       "    <tr>\n",
       "      <th>1949-05-01</th>\n",
       "      <td>121.0</td>\n",
       "      <td>-8.0</td>\n",
       "    </tr>\n",
       "  </tbody>\n",
       "</table>\n",
       "</div>"
      ],
      "text/plain": [
       "            Thousands of Passengers  Passengers First Difference\n",
       "Month                                                           \n",
       "1949-01-01                    112.0                          NaN\n",
       "1949-02-01                    118.0                          6.0\n",
       "1949-03-01                    132.0                         14.0\n",
       "1949-04-01                    129.0                         -3.0\n",
       "1949-05-01                    121.0                         -8.0"
      ]
     },
     "execution_count": 17,
     "metadata": {},
     "output_type": "execute_result"
    }
   ],
   "source": [
    "df_airline.head()"
   ]
  },
  {
   "cell_type": "code",
   "execution_count": 18,
   "id": "38752952-bf58-442d-a6df-41714b72d271",
   "metadata": {},
   "outputs": [
    {
     "name": "stdout",
     "output_type": "stream",
     "text": [
      "ADF Statistics : -2.829266824169992\n",
      "p-value : 0.0542132902838265\n",
      "weak evidance agaist the null hyphothesis, accept the null hypothesis\n"
     ]
    }
   ],
   "source": [
    "adf_test(df_airline[\"Passengers First Difference\"].dropna())"
   ]
  },
  {
   "cell_type": "code",
   "execution_count": 19,
   "id": "dcf768b7-08d1-4e31-91ec-d422e32f455b",
   "metadata": {},
   "outputs": [],
   "source": [
    "# differencing again\n",
    "df_airline[\"Passengers second Difference\"] = df_airline[\"Passengers First Difference\"] - df_airline[\"Passengers First Difference\"].shift(1)"
   ]
  },
  {
   "cell_type": "code",
   "execution_count": 20,
   "id": "9824d3d9-fe30-40e3-95d9-9234d77bbc51",
   "metadata": {},
   "outputs": [
    {
     "name": "stdout",
     "output_type": "stream",
     "text": [
      "ADF Statistics : -16.384231542468527\n",
      "p-value : 2.732891850014085e-29\n",
      "strong evidance agaist the null hyphothesis, reject the null hypothesis\n"
     ]
    }
   ],
   "source": [
    "adf_test(df_airline[\"Passengers second Difference\"].dropna())"
   ]
  },
  {
   "cell_type": "code",
   "execution_count": 21,
   "id": "a48992f8-e416-42b7-9031-4b41513b9b4d",
   "metadata": {},
   "outputs": [
    {
     "name": "stdout",
     "output_type": "stream",
     "text": [
      "ADF Statistics : -3.3830207264924805\n",
      "p-value : 0.011551493085514982\n",
      "strong evidance agaist the null hyphothesis, reject the null hypothesis\n"
     ]
    }
   ],
   "source": [
    "# for seasonal data\n",
    "# 12 months\n",
    "df_airline[\"Passengers 12 Difference\"] = df_airline[\"Thousands of Passengers\"] - df_airline[\"Thousands of Passengers\"].shift(12)\n",
    "adf_test(df_airline[\"Passengers 12 Difference\"].dropna())"
   ]
  },
  {
   "cell_type": "code",
   "execution_count": 22,
   "id": "27981469-4cfc-4ff4-91c8-5be3f40a38ce",
   "metadata": {},
   "outputs": [],
   "source": [
    "from statsmodels.graphics.tsaplots import plot_acf,plot_pacf"
   ]
  },
  {
   "cell_type": "code",
   "execution_count": 23,
   "id": "1ccc4c56-0def-4571-bbfb-718f256629b6",
   "metadata": {},
   "outputs": [
    {
     "data": {
      "image/png": "[encoded data removed]",
      "text/plain": [
       "<Figure size 640x480 with 1 Axes>"
      ]
     },
     "metadata": {},
     "output_type": "display_data"
    }
   ],
   "source": [
    "acf = plot_acf(df_airline[\"Passengers second Difference\"].dropna())"
   ]
  },
  {
   "cell_type": "code",
   "execution_count": 24,
   "id": "10ca68d5-5581-4a49-99d1-3cb86c43da0f",
   "metadata": {},
   "outputs": [
    {
     "data": {
      "image/png": "[encoded data removed]",
      "text/plain": [
       "<Figure size 640x480 with 1 Axes>"
      ]
     },
     "metadata": {},
     "output_type": "display_data"
    }
   ],
   "source": [
    "acf12 = plot_acf(df_airline[\"Passengers 12 Difference\"].dropna())"
   ]
  },
  {
   "cell_type": "code",
   "execution_count": null,
   "id": "95b39ec0-a094-472a-a15b-28e6408d3139",
   "metadata": {},
   "outputs": [],
   "source": []
  },
  {
   "cell_type": "code",
   "execution_count": 25,
   "id": "e1bc7c57-e624-41bc-b929-b32c753c7ac5",
   "metadata": {},
   "outputs": [
    {
     "data": {
      "image/png": "[encoded data removed]",
      "text/plain": [
       "<Figure size 640x480 with 1 Axes>"
      ]
     },
     "metadata": {},
     "output_type": "display_data"
    }
   ],
   "source": [
    "pacf = plot_pacf(df_airline[\"Passengers second Difference\"].dropna())"
   ]
  },
  {
   "cell_type": "code",
   "execution_count": 26,
   "id": "b4e1001a-16a8-44c8-805f-6531011fcaa4",
   "metadata": {},
   "outputs": [
    {
     "data": {
      "image/png": "[encoded data removed]",
      "text/plain": [
       "<Figure size 640x480 with 1 Axes>"
      ]
     },
     "metadata": {},
     "output_type": "display_data"
    }
   ],
   "source": [
    "pacf12 = plot_pacf(df_airline[\"Passengers 12 Difference\"].dropna())"
   ]
  },
  {
   "cell_type": "code",
   "execution_count": 27,
   "id": "7e098e7a-a789-4362-8b98-214f6b312fea",
   "metadata": {},
   "outputs": [],
   "source": [
    "from datetime import datetime,timedelta\n",
    "train_data_end = datetime(1955,12,1)\n",
    "test_data_end = datetime(1960,12,1)"
   ]
  },
  {
   "cell_type": "code",
   "execution_count": 28,
   "id": "235bf24f-70e7-4458-aaa5-ce9b44ab55c2",
   "metadata": {},
   "outputs": [],
   "source": [
    "train_data = df_airline[:train_data_end]\n",
    "test_data = df_airline[train_data_end + timedelta(days=1) : test_data_end]"
   ]
  },
  {
   "cell_type": "code",
   "execution_count": 29,
   "id": "b8e2e2e3-d60c-4b80-81d6-f947e04118bf",
   "metadata": {},
   "outputs": [],
   "source": [
    "pred_start_date = test_data.index[0]\n",
    "pred_end_date = test_data.index[-1]"
   ]
  },
  {
   "cell_type": "code",
   "execution_count": 30,
   "id": "b7cbf3a3-8af0-451b-8e8c-fe94371705da",
   "metadata": {
    "scrolled": true
   },
   "outputs": [
    {
     "data": {
      "text/html": [
       "<div>\n",
       "<style scoped>\n",
       "    .dataframe tbody tr th:only-of-type {\n",
       "        vertical-align: middle;\n",
       "    }\n",
       "\n",
       "    .dataframe tbody tr th {\n",
       "        vertical-align: top;\n",
       "    }\n",
       "\n",
       "    .dataframe thead th {\n",
       "        text-align: right;\n",
       "    }\n",
       "</style>\n",
       "<table border=\"1\" class=\"dataframe\">\n",
       "  <thead>\n",
       "    <tr style=\"text-align: right;\">\n",
       "      <th></th>\n",
       "      <th>Thousands of Passengers</th>\n",
       "      <th>Passengers First Difference</th>\n",
       "      <th>Passengers second Difference</th>\n",
       "      <th>Passengers 12 Difference</th>\n",
       "    </tr>\n",
       "    <tr>\n",
       "      <th>Month</th>\n",
       "      <th></th>\n",
       "      <th></th>\n",
       "      <th></th>\n",
       "      <th></th>\n",
       "    </tr>\n",
       "  </thead>\n",
       "  <tbody>\n",
       "    <tr>\n",
       "      <th>1956-01-01</th>\n",
       "      <td>284.0</td>\n",
       "      <td>6.0</td>\n",
       "      <td>-35.0</td>\n",
       "      <td>42.0</td>\n",
       "    </tr>\n",
       "    <tr>\n",
       "      <th>1956-02-01</th>\n",
       "      <td>277.0</td>\n",
       "      <td>-7.0</td>\n",
       "      <td>-13.0</td>\n",
       "      <td>44.0</td>\n",
       "    </tr>\n",
       "    <tr>\n",
       "      <th>1956-03-01</th>\n",
       "      <td>317.0</td>\n",
       "      <td>40.0</td>\n",
       "      <td>47.0</td>\n",
       "      <td>50.0</td>\n",
       "    </tr>\n",
       "    <tr>\n",
       "      <th>1956-04-01</th>\n",
       "      <td>313.0</td>\n",
       "      <td>-4.0</td>\n",
       "      <td>-44.0</td>\n",
       "      <td>44.0</td>\n",
       "    </tr>\n",
       "    <tr>\n",
       "      <th>1956-05-01</th>\n",
       "      <td>318.0</td>\n",
       "      <td>5.0</td>\n",
       "      <td>9.0</td>\n",
       "      <td>48.0</td>\n",
       "    </tr>\n",
       "    <tr>\n",
       "      <th>1956-06-01</th>\n",
       "      <td>374.0</td>\n",
       "      <td>56.0</td>\n",
       "      <td>51.0</td>\n",
       "      <td>59.0</td>\n",
       "    </tr>\n",
       "    <tr>\n",
       "      <th>1956-07-01</th>\n",
       "      <td>413.0</td>\n",
       "      <td>39.0</td>\n",
       "      <td>-17.0</td>\n",
       "      <td>49.0</td>\n",
       "    </tr>\n",
       "    <tr>\n",
       "      <th>1956-08-01</th>\n",
       "      <td>405.0</td>\n",
       "      <td>-8.0</td>\n",
       "      <td>-47.0</td>\n",
       "      <td>58.0</td>\n",
       "    </tr>\n",
       "    <tr>\n",
       "      <th>1956-09-01</th>\n",
       "      <td>355.0</td>\n",
       "      <td>-50.0</td>\n",
       "      <td>-42.0</td>\n",
       "      <td>43.0</td>\n",
       "    </tr>\n",
       "    <tr>\n",
       "      <th>1956-10-01</th>\n",
       "      <td>306.0</td>\n",
       "      <td>-49.0</td>\n",
       "      <td>1.0</td>\n",
       "      <td>32.0</td>\n",
       "    </tr>\n",
       "    <tr>\n",
       "      <th>1956-11-01</th>\n",
       "      <td>271.0</td>\n",
       "      <td>-35.0</td>\n",
       "      <td>14.0</td>\n",
       "      <td>34.0</td>\n",
       "    </tr>\n",
       "    <tr>\n",
       "      <th>1956-12-01</th>\n",
       "      <td>306.0</td>\n",
       "      <td>35.0</td>\n",
       "      <td>70.0</td>\n",
       "      <td>28.0</td>\n",
       "    </tr>\n",
       "    <tr>\n",
       "      <th>1957-01-01</th>\n",
       "      <td>315.0</td>\n",
       "      <td>9.0</td>\n",
       "      <td>-26.0</td>\n",
       "      <td>31.0</td>\n",
       "    </tr>\n",
       "    <tr>\n",
       "      <th>1957-02-01</th>\n",
       "      <td>301.0</td>\n",
       "      <td>-14.0</td>\n",
       "      <td>-23.0</td>\n",
       "      <td>24.0</td>\n",
       "    </tr>\n",
       "    <tr>\n",
       "      <th>1957-03-01</th>\n",
       "      <td>356.0</td>\n",
       "      <td>55.0</td>\n",
       "      <td>69.0</td>\n",
       "      <td>39.0</td>\n",
       "    </tr>\n",
       "    <tr>\n",
       "      <th>1957-04-01</th>\n",
       "      <td>348.0</td>\n",
       "      <td>-8.0</td>\n",
       "      <td>-63.0</td>\n",
       "      <td>35.0</td>\n",
       "    </tr>\n",
       "    <tr>\n",
       "      <th>1957-05-01</th>\n",
       "      <td>355.0</td>\n",
       "      <td>7.0</td>\n",
       "      <td>15.0</td>\n",
       "      <td>37.0</td>\n",
       "    </tr>\n",
       "    <tr>\n",
       "      <th>1957-06-01</th>\n",
       "      <td>422.0</td>\n",
       "      <td>67.0</td>\n",
       "      <td>60.0</td>\n",
       "      <td>48.0</td>\n",
       "    </tr>\n",
       "    <tr>\n",
       "      <th>1957-07-01</th>\n",
       "      <td>465.0</td>\n",
       "      <td>43.0</td>\n",
       "      <td>-24.0</td>\n",
       "      <td>52.0</td>\n",
       "    </tr>\n",
       "    <tr>\n",
       "      <th>1957-08-01</th>\n",
       "      <td>467.0</td>\n",
       "      <td>2.0</td>\n",
       "      <td>-41.0</td>\n",
       "      <td>62.0</td>\n",
       "    </tr>\n",
       "    <tr>\n",
       "      <th>1957-09-01</th>\n",
       "      <td>404.0</td>\n",
       "      <td>-63.0</td>\n",
       "      <td>-65.0</td>\n",
       "      <td>49.0</td>\n",
       "    </tr>\n",
       "    <tr>\n",
       "      <th>1957-10-01</th>\n",
       "      <td>347.0</td>\n",
       "      <td>-57.0</td>\n",
       "      <td>6.0</td>\n",
       "      <td>41.0</td>\n",
       "    </tr>\n",
       "    <tr>\n",
       "      <th>1957-11-01</th>\n",
       "      <td>305.0</td>\n",
       "      <td>-42.0</td>\n",
       "      <td>15.0</td>\n",
       "      <td>34.0</td>\n",
       "    </tr>\n",
       "    <tr>\n",
       "      <th>1957-12-01</th>\n",
       "      <td>336.0</td>\n",
       "      <td>31.0</td>\n",
       "      <td>73.0</td>\n",
       "      <td>30.0</td>\n",
       "    </tr>\n",
       "    <tr>\n",
       "      <th>1958-01-01</th>\n",
       "      <td>340.0</td>\n",
       "      <td>4.0</td>\n",
       "      <td>-27.0</td>\n",
       "      <td>25.0</td>\n",
       "    </tr>\n",
       "    <tr>\n",
       "      <th>1958-02-01</th>\n",
       "      <td>318.0</td>\n",
       "      <td>-22.0</td>\n",
       "      <td>-26.0</td>\n",
       "      <td>17.0</td>\n",
       "    </tr>\n",
       "    <tr>\n",
       "      <th>1958-03-01</th>\n",
       "      <td>362.0</td>\n",
       "      <td>44.0</td>\n",
       "      <td>66.0</td>\n",
       "      <td>6.0</td>\n",
       "    </tr>\n",
       "    <tr>\n",
       "      <th>1958-04-01</th>\n",
       "      <td>348.0</td>\n",
       "      <td>-14.0</td>\n",
       "      <td>-58.0</td>\n",
       "      <td>0.0</td>\n",
       "    </tr>\n",
       "    <tr>\n",
       "      <th>1958-05-01</th>\n",
       "      <td>363.0</td>\n",
       "      <td>15.0</td>\n",
       "      <td>29.0</td>\n",
       "      <td>8.0</td>\n",
       "    </tr>\n",
       "    <tr>\n",
       "      <th>1958-06-01</th>\n",
       "      <td>435.0</td>\n",
       "      <td>72.0</td>\n",
       "      <td>57.0</td>\n",
       "      <td>13.0</td>\n",
       "    </tr>\n",
       "    <tr>\n",
       "      <th>1958-07-01</th>\n",
       "      <td>491.0</td>\n",
       "      <td>56.0</td>\n",
       "      <td>-16.0</td>\n",
       "      <td>26.0</td>\n",
       "    </tr>\n",
       "    <tr>\n",
       "      <th>1958-08-01</th>\n",
       "      <td>505.0</td>\n",
       "      <td>14.0</td>\n",
       "      <td>-42.0</td>\n",
       "      <td>38.0</td>\n",
       "    </tr>\n",
       "    <tr>\n",
       "      <th>1958-09-01</th>\n",
       "      <td>404.0</td>\n",
       "      <td>-101.0</td>\n",
       "      <td>-115.0</td>\n",
       "      <td>0.0</td>\n",
       "    </tr>\n",
       "    <tr>\n",
       "      <th>1958-10-01</th>\n",
       "      <td>359.0</td>\n",
       "      <td>-45.0</td>\n",
       "      <td>56.0</td>\n",
       "      <td>12.0</td>\n",
       "    </tr>\n",
       "    <tr>\n",
       "      <th>1958-11-01</th>\n",
       "      <td>310.0</td>\n",
       "      <td>-49.0</td>\n",
       "      <td>-4.0</td>\n",
       "      <td>5.0</td>\n",
       "    </tr>\n",
       "    <tr>\n",
       "      <th>1958-12-01</th>\n",
       "      <td>337.0</td>\n",
       "      <td>27.0</td>\n",
       "      <td>76.0</td>\n",
       "      <td>1.0</td>\n",
       "    </tr>\n",
       "    <tr>\n",
       "      <th>1959-01-01</th>\n",
       "      <td>360.0</td>\n",
       "      <td>23.0</td>\n",
       "      <td>-4.0</td>\n",
       "      <td>20.0</td>\n",
       "    </tr>\n",
       "    <tr>\n",
       "      <th>1959-02-01</th>\n",
       "      <td>342.0</td>\n",
       "      <td>-18.0</td>\n",
       "      <td>-41.0</td>\n",
       "      <td>24.0</td>\n",
       "    </tr>\n",
       "    <tr>\n",
       "      <th>1959-03-01</th>\n",
       "      <td>406.0</td>\n",
       "      <td>64.0</td>\n",
       "      <td>82.0</td>\n",
       "      <td>44.0</td>\n",
       "    </tr>\n",
       "    <tr>\n",
       "      <th>1959-04-01</th>\n",
       "      <td>396.0</td>\n",
       "      <td>-10.0</td>\n",
       "      <td>-74.0</td>\n",
       "      <td>48.0</td>\n",
       "    </tr>\n",
       "    <tr>\n",
       "      <th>1959-05-01</th>\n",
       "      <td>420.0</td>\n",
       "      <td>24.0</td>\n",
       "      <td>34.0</td>\n",
       "      <td>57.0</td>\n",
       "    </tr>\n",
       "    <tr>\n",
       "      <th>1959-06-01</th>\n",
       "      <td>472.0</td>\n",
       "      <td>52.0</td>\n",
       "      <td>28.0</td>\n",
       "      <td>37.0</td>\n",
       "    </tr>\n",
       "    <tr>\n",
       "      <th>1959-07-01</th>\n",
       "      <td>548.0</td>\n",
       "      <td>76.0</td>\n",
       "      <td>24.0</td>\n",
       "      <td>57.0</td>\n",
       "    </tr>\n",
       "    <tr>\n",
       "      <th>1959-08-01</th>\n",
       "      <td>559.0</td>\n",
       "      <td>11.0</td>\n",
       "      <td>-65.0</td>\n",
       "      <td>54.0</td>\n",
       "    </tr>\n",
       "    <tr>\n",
       "      <th>1959-09-01</th>\n",
       "      <td>463.0</td>\n",
       "      <td>-96.0</td>\n",
       "      <td>-107.0</td>\n",
       "      <td>59.0</td>\n",
       "    </tr>\n",
       "    <tr>\n",
       "      <th>1959-10-01</th>\n",
       "      <td>407.0</td>\n",
       "      <td>-56.0</td>\n",
       "      <td>40.0</td>\n",
       "      <td>48.0</td>\n",
       "    </tr>\n",
       "    <tr>\n",
       "      <th>1959-11-01</th>\n",
       "      <td>362.0</td>\n",
       "      <td>-45.0</td>\n",
       "      <td>11.0</td>\n",
       "      <td>52.0</td>\n",
       "    </tr>\n",
       "    <tr>\n",
       "      <th>1959-12-01</th>\n",
       "      <td>405.0</td>\n",
       "      <td>43.0</td>\n",
       "      <td>88.0</td>\n",
       "      <td>68.0</td>\n",
       "    </tr>\n",
       "    <tr>\n",
       "      <th>1960-01-01</th>\n",
       "      <td>417.0</td>\n",
       "      <td>12.0</td>\n",
       "      <td>-31.0</td>\n",
       "      <td>57.0</td>\n",
       "    </tr>\n",
       "    <tr>\n",
       "      <th>1960-02-01</th>\n",
       "      <td>391.0</td>\n",
       "      <td>-26.0</td>\n",
       "      <td>-38.0</td>\n",
       "      <td>49.0</td>\n",
       "    </tr>\n",
       "    <tr>\n",
       "      <th>1960-03-01</th>\n",
       "      <td>419.0</td>\n",
       "      <td>28.0</td>\n",
       "      <td>54.0</td>\n",
       "      <td>13.0</td>\n",
       "    </tr>\n",
       "    <tr>\n",
       "      <th>1960-04-01</th>\n",
       "      <td>461.0</td>\n",
       "      <td>42.0</td>\n",
       "      <td>14.0</td>\n",
       "      <td>65.0</td>\n",
       "    </tr>\n",
       "    <tr>\n",
       "      <th>1960-05-01</th>\n",
       "      <td>472.0</td>\n",
       "      <td>11.0</td>\n",
       "      <td>-31.0</td>\n",
       "      <td>52.0</td>\n",
       "    </tr>\n",
       "    <tr>\n",
       "      <th>1960-06-01</th>\n",
       "      <td>535.0</td>\n",
       "      <td>63.0</td>\n",
       "      <td>52.0</td>\n",
       "      <td>63.0</td>\n",
       "    </tr>\n",
       "    <tr>\n",
       "      <th>1960-07-01</th>\n",
       "      <td>622.0</td>\n",
       "      <td>87.0</td>\n",
       "      <td>24.0</td>\n",
       "      <td>74.0</td>\n",
       "    </tr>\n",
       "    <tr>\n",
       "      <th>1960-08-01</th>\n",
       "      <td>606.0</td>\n",
       "      <td>-16.0</td>\n",
       "      <td>-103.0</td>\n",
       "      <td>47.0</td>\n",
       "    </tr>\n",
       "    <tr>\n",
       "      <th>1960-09-01</th>\n",
       "      <td>508.0</td>\n",
       "      <td>-98.0</td>\n",
       "      <td>-82.0</td>\n",
       "      <td>45.0</td>\n",
       "    </tr>\n",
       "    <tr>\n",
       "      <th>1960-10-01</th>\n",
       "      <td>461.0</td>\n",
       "      <td>-47.0</td>\n",
       "      <td>51.0</td>\n",
       "      <td>54.0</td>\n",
       "    </tr>\n",
       "    <tr>\n",
       "      <th>1960-11-01</th>\n",
       "      <td>390.0</td>\n",
       "      <td>-71.0</td>\n",
       "      <td>-24.0</td>\n",
       "      <td>28.0</td>\n",
       "    </tr>\n",
       "    <tr>\n",
       "      <th>1960-12-01</th>\n",
       "      <td>432.0</td>\n",
       "      <td>42.0</td>\n",
       "      <td>113.0</td>\n",
       "      <td>27.0</td>\n",
       "    </tr>\n",
       "  </tbody>\n",
       "</table>\n",
       "</div>"
      ],
      "text/plain": [
       "            Thousands of Passengers  Passengers First Difference  \\\n",
       "Month                                                              \n",
       "1956-01-01                    284.0                          6.0   \n",
       "1956-02-01                    277.0                         -7.0   \n",
       "1956-03-01                    317.0                         40.0   \n",
       "1956-04-01                    313.0                         -4.0   \n",
       "1956-05-01                    318.0                          5.0   \n",
       "1956-06-01                    374.0                         56.0   \n",
       "1956-07-01                    413.0                         39.0   \n",
       "1956-08-01                    405.0                         -8.0   \n",
       "1956-09-01                    355.0                        -50.0   \n",
       "1956-10-01                    306.0                        -49.0   \n",
       "1956-11-01                    271.0                        -35.0   \n",
       "1956-12-01                    306.0                         35.0   \n",
       "1957-01-01                    315.0                          9.0   \n",
       "1957-02-01                    301.0                        -14.0   \n",
       "1957-03-01                    356.0                         55.0   \n",
       "1957-04-01                    348.0                         -8.0   \n",
       "1957-05-01                    355.0                          7.0   \n",
       "1957-06-01                    422.0                         67.0   \n",
       "1957-07-01                    465.0                         43.0   \n",
       "1957-08-01                    467.0                          2.0   \n",
       "1957-09-01                    404.0                        -63.0   \n",
       "1957-10-01                    347.0                        -57.0   \n",
       "1957-11-01                    305.0                        -42.0   \n",
       "1957-12-01                    336.0                         31.0   \n",
       "1958-01-01                    340.0                          4.0   \n",
       "1958-02-01                    318.0                        -22.0   \n",
       "1958-03-01                    362.0                         44.0   \n",
       "1958-04-01                    348.0                        -14.0   \n",
       "1958-05-01                    363.0                         15.0   \n",
       "1958-06-01                    435.0                         72.0   \n",
       "1958-07-01                    491.0                         56.0   \n",
       "1958-08-01                    505.0                         14.0   \n",
       "1958-09-01                    404.0                       -101.0   \n",
       "1958-10-01                    359.0                        -45.0   \n",
       "1958-11-01                    310.0                        -49.0   \n",
       "1958-12-01                    337.0                         27.0   \n",
       "1959-01-01                    360.0                         23.0   \n",
       "1959-02-01                    342.0                        -18.0   \n",
       "1959-03-01                    406.0                         64.0   \n",
       "1959-04-01                    396.0                        -10.0   \n",
       "1959-05-01                    420.0                         24.0   \n",
       "1959-06-01                    472.0                         52.0   \n",
       "1959-07-01                    548.0                         76.0   \n",
       "1959-08-01                    559.0                         11.0   \n",
       "1959-09-01                    463.0                        -96.0   \n",
       "1959-10-01                    407.0                        -56.0   \n",
       "1959-11-01                    362.0                        -45.0   \n",
       "1959-12-01                    405.0                         43.0   \n",
       "1960-01-01                    417.0                         12.0   \n",
       "1960-02-01                    391.0                        -26.0   \n",
       "1960-03-01                    419.0                         28.0   \n",
       "1960-04-01                    461.0                         42.0   \n",
       "1960-05-01                    472.0                         11.0   \n",
       "1960-06-01                    535.0                         63.0   \n",
       "1960-07-01                    622.0                         87.0   \n",
       "1960-08-01                    606.0                        -16.0   \n",
       "1960-09-01                    508.0                        -98.0   \n",
       "1960-10-01                    461.0                        -47.0   \n",
       "1960-11-01                    390.0                        -71.0   \n",
       "1960-12-01                    432.0                         42.0   \n",
       "\n",
       "            Passengers second Difference  Passengers 12 Difference  \n",
       "Month                                                               \n",
       "1956-01-01                         -35.0                      42.0  \n",
       "1956-02-01                         -13.0                      44.0  \n",
       "1956-03-01                          47.0                      50.0  \n",
       "1956-04-01                         -44.0                      44.0  \n",
       "1956-05-01                           9.0                      48.0  \n",
       "1956-06-01                          51.0                      59.0  \n",
       "1956-07-01                         -17.0                      49.0  \n",
       "1956-08-01                         -47.0                      58.0  \n",
       "1956-09-01                         -42.0                      43.0  \n",
       "1956-10-01                           1.0                      32.0  \n",
       "1956-11-01                          14.0                      34.0  \n",
       "1956-12-01                          70.0                      28.0  \n",
       "1957-01-01                         -26.0                      31.0  \n",
       "1957-02-01                         -23.0                      24.0  \n",
       "1957-03-01                          69.0                      39.0  \n",
       "1957-04-01                         -63.0                      35.0  \n",
       "1957-05-01                          15.0                      37.0  \n",
       "1957-06-01                          60.0                      48.0  \n",
       "1957-07-01                         -24.0                      52.0  \n",
       "1957-08-01                         -41.0                      62.0  \n",
       "1957-09-01                         -65.0                      49.0  \n",
       "1957-10-01                           6.0                      41.0  \n",
       "1957-11-01                          15.0                      34.0  \n",
       "1957-12-01                          73.0                      30.0  \n",
       "1958-01-01                         -27.0                      25.0  \n",
       "1958-02-01                         -26.0                      17.0  \n",
       "1958-03-01                          66.0                       6.0  \n",
       "1958-04-01                         -58.0                       0.0  \n",
       "1958-05-01                          29.0                       8.0  \n",
       "1958-06-01                          57.0                      13.0  \n",
       "1958-07-01                         -16.0                      26.0  \n",
       "1958-08-01                         -42.0                      38.0  \n",
       "1958-09-01                        -115.0                       0.0  \n",
       "1958-10-01                          56.0                      12.0  \n",
       "1958-11-01                          -4.0                       5.0  \n",
       "1958-12-01                          76.0                       1.0  \n",
       "1959-01-01                          -4.0                      20.0  \n",
       "1959-02-01                         -41.0                      24.0  \n",
       "1959-03-01                          82.0                      44.0  \n",
       "1959-04-01                         -74.0                      48.0  \n",
       "1959-05-01                          34.0                      57.0  \n",
       "1959-06-01                          28.0                      37.0  \n",
       "1959-07-01                          24.0                      57.0  \n",
       "1959-08-01                         -65.0                      54.0  \n",
       "1959-09-01                        -107.0                      59.0  \n",
       "1959-10-01                          40.0                      48.0  \n",
       "1959-11-01                          11.0                      52.0  \n",
       "1959-12-01                          88.0                      68.0  \n",
       "1960-01-01                         -31.0                      57.0  \n",
       "1960-02-01                         -38.0                      49.0  \n",
       "1960-03-01                          54.0                      13.0  \n",
       "1960-04-01                          14.0                      65.0  \n",
       "1960-05-01                         -31.0                      52.0  \n",
       "1960-06-01                          52.0                      63.0  \n",
       "1960-07-01                          24.0                      74.0  \n",
       "1960-08-01                        -103.0                      47.0  \n",
       "1960-09-01                         -82.0                      45.0  \n",
       "1960-10-01                          51.0                      54.0  \n",
       "1960-11-01                         -24.0                      28.0  \n",
       "1960-12-01                         113.0                      27.0  "
      ]
     },
     "execution_count": 30,
     "metadata": {},
     "output_type": "execute_result"
    }
   ],
   "source": [
    "test_data"
   ]
  },
  {
   "cell_type": "code",
   "execution_count": 31,
   "id": "fb25c4df-6928-49dc-9ad6-4ad629e7de1d",
   "metadata": {},
   "outputs": [],
   "source": [
    "from statsmodels.tsa.arima_model import ARIMA"
   ]
  },
  {
   "cell_type": "code",
   "execution_count": 32,
   "id": "fc68ce47-0dea-4294-a9ea-ead51d548ce6",
   "metadata": {},
   "outputs": [],
   "source": [
    "#pip install statsmodels --upgrade"
   ]
  },
  {
   "cell_type": "code",
   "execution_count": 33,
   "id": "609cbd3b-2539-42a7-8c9c-f4a1450f5dbb",
   "metadata": {},
   "outputs": [
    {
     "ename": "NotImplementedError",
     "evalue": "\nstatsmodels.tsa.arima_model.ARMA and statsmodels.tsa.arima_model.ARIMA have\nbeen removed in favor of statsmodels.tsa.arima.model.ARIMA (note the .\nbetween arima and model) and statsmodels.tsa.SARIMAX.\n\nstatsmodels.tsa.arima.model.ARIMA makes use of the statespace framework and\nis both well tested and maintained. It also offers alternative specialized\nparameter estimators.\n",
     "output_type": "error",
     "traceback": [
      "\u001b[1;31m---------------------------------------------------------------------------\u001b[0m",
      "\u001b[1;31mNotImplementedError\u001b[0m                       Traceback (most recent call last)",
      "Cell \u001b[1;32mIn[33], line 2\u001b[0m\n\u001b[0;32m      1\u001b[0m \u001b[38;5;66;03m# actually q=12, if it is 12 it becomes sseasonal data .for convinience keep it 0\u001b[39;00m\n\u001b[1;32m----> 2\u001b[0m model_arima \u001b[38;5;241m=\u001b[39m ARIMA(train_data[\u001b[38;5;124m\"\u001b[39m\u001b[38;5;124mThousands of Passengers\u001b[39m\u001b[38;5;124m\"\u001b[39m],order\u001b[38;5;241m=\u001b[39m(\u001b[38;5;241m11\u001b[39m,\u001b[38;5;241m2\u001b[39m,\u001b[38;5;241m0\u001b[39m))\n",
      "File \u001b[1;32m~\\anaconda3\\Lib\\site-packages\\statsmodels\\tsa\\arima_model.py:45\u001b[0m, in \u001b[0;36mARIMA.__init__\u001b[1;34m(self, *args, **kwargs)\u001b[0m\n\u001b[0;32m     44\u001b[0m \u001b[38;5;28;01mdef\u001b[39;00m \u001b[38;5;21m__init__\u001b[39m(\u001b[38;5;28mself\u001b[39m, \u001b[38;5;241m*\u001b[39margs, \u001b[38;5;241m*\u001b[39m\u001b[38;5;241m*\u001b[39mkwargs):\n\u001b[1;32m---> 45\u001b[0m     \u001b[38;5;28msuper\u001b[39m()\u001b[38;5;241m.\u001b[39m\u001b[38;5;21m__init__\u001b[39m(\u001b[38;5;241m*\u001b[39margs, \u001b[38;5;241m*\u001b[39m\u001b[38;5;241m*\u001b[39mkwargs)\n",
      "File \u001b[1;32m~\\anaconda3\\Lib\\site-packages\\statsmodels\\tsa\\arima_model.py:29\u001b[0m, in \u001b[0;36mARMA.__init__\u001b[1;34m(self, *args, **kwargs)\u001b[0m\n\u001b[0;32m     28\u001b[0m \u001b[38;5;28;01mdef\u001b[39;00m \u001b[38;5;21m__init__\u001b[39m(\u001b[38;5;28mself\u001b[39m, \u001b[38;5;241m*\u001b[39margs, \u001b[38;5;241m*\u001b[39m\u001b[38;5;241m*\u001b[39mkwargs):\n\u001b[1;32m---> 29\u001b[0m     \u001b[38;5;28;01mraise\u001b[39;00m \u001b[38;5;167;01mNotImplementedError\u001b[39;00m(ARIMA_DEPRECATION_ERROR)\n",
      "\u001b[1;31mNotImplementedError\u001b[0m: \nstatsmodels.tsa.arima_model.ARMA and statsmodels.tsa.arima_model.ARIMA have\nbeen removed in favor of statsmodels.tsa.arima.model.ARIMA (note the .\nbetween arima and model) and statsmodels.tsa.SARIMAX.\n\nstatsmodels.tsa.arima.model.ARIMA makes use of the statespace framework and\nis both well tested and maintained. It also offers alternative specialized\nparameter estimators.\n"
     ]
    }
   ],
   "source": [
    "# actually q=12, if it is 12 it becomes sseasonal data .for convinience keep it 0\n",
    "model_arima = ARIMA(train_data[\"Thousands of Passengers\"],order=(11,2,0))"
   ]
  },
  {
   "cell_type": "code",
   "execution_count": null,
   "id": "e17b0ee1-cd58-4853-a604-b10f84f49a95",
   "metadata": {},
   "outputs": [],
   "source": [
    "#pip install pmdarima"
   ]
  },
  {
   "cell_type": "code",
   "execution_count": 34,
   "id": "0e4be8b6-ec1f-470d-a75b-1961d192fb94",
   "metadata": {},
   "outputs": [
    {
     "name": "stderr",
     "output_type": "stream",
     "text": [
      "C:\\Users\\Nags\\anaconda3\\Lib\\site-packages\\statsmodels\\tsa\\base\\tsa_model.py:473: ValueWarning: No frequency information was provided, so inferred frequency MS will be used.\n",
      "  self._init_dates(dates, freq)\n",
      "C:\\Users\\Nags\\anaconda3\\Lib\\site-packages\\statsmodels\\tsa\\base\\tsa_model.py:473: ValueWarning: No frequency information was provided, so inferred frequency MS will be used.\n",
      "  self._init_dates(dates, freq)\n",
      "C:\\Users\\Nags\\anaconda3\\Lib\\site-packages\\statsmodels\\tsa\\statespace\\sarimax.py:966: UserWarning: Non-stationary starting autoregressive parameters found. Using zeros as starting parameters.\n",
      "  warn('Non-stationary starting autoregressive parameters'\n",
      "C:\\Users\\Nags\\anaconda3\\Lib\\site-packages\\statsmodels\\tsa\\statespace\\sarimax.py:978: UserWarning: Non-invertible starting MA parameters found. Using zeros as starting parameters.\n",
      "  warn('Non-invertible starting MA parameters found.'\n",
      "C:\\Users\\Nags\\anaconda3\\Lib\\site-packages\\statsmodels\\base\\model.py:607: ConvergenceWarning: Maximum Likelihood optimization failed to converge. Check mle_retvals\n",
      "  warnings.warn(\"Maximum Likelihood optimization failed to \"\n"
     ]
    }
   ],
   "source": [
    "from pmdarima import ARIMA\n",
    "\n",
    "model_pmdarima = ARIMA(order=(11, 2, 12))\n",
    "model_pmdarima_fit = model_pmdarima.fit(train_data[\"Thousands of Passengers\"])\n"
   ]
  },
  {
   "cell_type": "code",
   "execution_count": 35,
   "id": "c0492937-4d5f-4501-99ce-6f0c75153b5d",
   "metadata": {
    "scrolled": true
   },
   "outputs": [
    {
     "data": {
      "text/html": [
       "<table class=\"simpletable\">\n",
       "<caption>SARIMAX Results</caption>\n",
       "<tr>\n",
       "  <th>Dep. Variable:</th>            <td>y</td>         <th>  No. Observations:  </th>    <td>84</td>   \n",
       "</tr>\n",
       "<tr>\n",
       "  <th>Model:</th>           <td>SARIMAX(11, 2, 12)</td> <th>  Log Likelihood     </th> <td>-305.507</td>\n",
       "</tr>\n",
       "<tr>\n",
       "  <th>Date:</th>             <td>Thu, 07 Nov 2024</td>  <th>  AIC                </th>  <td>661.013</td>\n",
       "</tr>\n",
       "<tr>\n",
       "  <th>Time:</th>                 <td>20:29:34</td>      <th>  BIC                </th>  <td>721.181</td>\n",
       "</tr>\n",
       "<tr>\n",
       "  <th>Sample:</th>              <td>01-01-1949</td>     <th>  HQIC               </th>  <td>685.170</td>\n",
       "</tr>\n",
       "<tr>\n",
       "  <th></th>                    <td>- 12-01-1955</td>    <th>                     </th>     <td> </td>   \n",
       "</tr>\n",
       "<tr>\n",
       "  <th>Covariance Type:</th>         <td>opg</td>        <th>                     </th>     <td> </td>   \n",
       "</tr>\n",
       "</table>\n",
       "<table class=\"simpletable\">\n",
       "<tr>\n",
       "      <td></td>         <th>coef</th>     <th>std err</th>      <th>z</th>      <th>P>|z|</th>  <th>[0.025</th>    <th>0.975]</th>  \n",
       "</tr>\n",
       "<tr>\n",
       "  <th>intercept</th> <td>    0.2870</td> <td>    0.272</td> <td>    1.053</td> <td> 0.292</td> <td>   -0.247</td> <td>    0.821</td>\n",
       "</tr>\n",
       "<tr>\n",
       "  <th>ar.L1</th>     <td>   -0.8056</td> <td>    0.422</td> <td>   -1.908</td> <td> 0.056</td> <td>   -1.633</td> <td>    0.022</td>\n",
       "</tr>\n",
       "<tr>\n",
       "  <th>ar.L2</th>     <td>   -0.9262</td> <td>    0.147</td> <td>   -6.317</td> <td> 0.000</td> <td>   -1.214</td> <td>   -0.639</td>\n",
       "</tr>\n",
       "<tr>\n",
       "  <th>ar.L3</th>     <td>   -0.8276</td> <td>    0.385</td> <td>   -2.147</td> <td> 0.032</td> <td>   -1.583</td> <td>   -0.072</td>\n",
       "</tr>\n",
       "<tr>\n",
       "  <th>ar.L4</th>     <td>   -0.8579</td> <td>    0.110</td> <td>   -7.770</td> <td> 0.000</td> <td>   -1.074</td> <td>   -0.642</td>\n",
       "</tr>\n",
       "<tr>\n",
       "  <th>ar.L5</th>     <td>   -0.8904</td> <td>    0.391</td> <td>   -2.280</td> <td> 0.023</td> <td>   -1.656</td> <td>   -0.125</td>\n",
       "</tr>\n",
       "<tr>\n",
       "  <th>ar.L6</th>     <td>   -0.7605</td> <td>    0.157</td> <td>   -4.854</td> <td> 0.000</td> <td>   -1.068</td> <td>   -0.453</td>\n",
       "</tr>\n",
       "<tr>\n",
       "  <th>ar.L7</th>     <td>   -0.8944</td> <td>    0.321</td> <td>   -2.785</td> <td> 0.005</td> <td>   -1.524</td> <td>   -0.265</td>\n",
       "</tr>\n",
       "<tr>\n",
       "  <th>ar.L8</th>     <td>   -0.8434</td> <td>    0.144</td> <td>   -5.844</td> <td> 0.000</td> <td>   -1.126</td> <td>   -0.561</td>\n",
       "</tr>\n",
       "<tr>\n",
       "  <th>ar.L9</th>     <td>   -0.9068</td> <td>    0.314</td> <td>   -2.892</td> <td> 0.004</td> <td>   -1.521</td> <td>   -0.292</td>\n",
       "</tr>\n",
       "<tr>\n",
       "  <th>ar.L10</th>    <td>   -0.8515</td> <td>    0.129</td> <td>   -6.626</td> <td> 0.000</td> <td>   -1.103</td> <td>   -0.600</td>\n",
       "</tr>\n",
       "<tr>\n",
       "  <th>ar.L11</th>    <td>   -0.7663</td> <td>    0.297</td> <td>   -2.582</td> <td> 0.010</td> <td>   -1.348</td> <td>   -0.185</td>\n",
       "</tr>\n",
       "<tr>\n",
       "  <th>ma.L1</th>     <td>   -0.4021</td> <td>    0.954</td> <td>   -0.422</td> <td> 0.673</td> <td>   -2.271</td> <td>    1.467</td>\n",
       "</tr>\n",
       "<tr>\n",
       "  <th>ma.L2</th>     <td>    0.0513</td> <td>    1.247</td> <td>    0.041</td> <td> 0.967</td> <td>   -2.393</td> <td>    2.496</td>\n",
       "</tr>\n",
       "<tr>\n",
       "  <th>ma.L3</th>     <td>   -0.4185</td> <td>    1.206</td> <td>   -0.347</td> <td> 0.729</td> <td>   -2.782</td> <td>    1.945</td>\n",
       "</tr>\n",
       "<tr>\n",
       "  <th>ma.L4</th>     <td>    0.1215</td> <td>    1.574</td> <td>    0.077</td> <td> 0.938</td> <td>   -2.964</td> <td>    3.207</td>\n",
       "</tr>\n",
       "<tr>\n",
       "  <th>ma.L5</th>     <td>    0.0109</td> <td>    1.654</td> <td>    0.007</td> <td> 0.995</td> <td>   -3.230</td> <td>    3.252</td>\n",
       "</tr>\n",
       "<tr>\n",
       "  <th>ma.L6</th>     <td>   -0.2157</td> <td>    1.542</td> <td>   -0.140</td> <td> 0.889</td> <td>   -3.238</td> <td>    2.807</td>\n",
       "</tr>\n",
       "<tr>\n",
       "  <th>ma.L7</th>     <td>    0.2888</td> <td>    1.276</td> <td>    0.226</td> <td> 0.821</td> <td>   -2.212</td> <td>    2.790</td>\n",
       "</tr>\n",
       "<tr>\n",
       "  <th>ma.L8</th>     <td>   -0.4422</td> <td>    0.992</td> <td>   -0.446</td> <td> 0.656</td> <td>   -2.387</td> <td>    1.502</td>\n",
       "</tr>\n",
       "<tr>\n",
       "  <th>ma.L9</th>     <td>    0.4569</td> <td>    0.660</td> <td>    0.692</td> <td> 0.489</td> <td>   -0.837</td> <td>    1.750</td>\n",
       "</tr>\n",
       "<tr>\n",
       "  <th>ma.L10</th>    <td>   -0.4371</td> <td>    0.425</td> <td>   -1.029</td> <td> 0.304</td> <td>   -1.270</td> <td>    0.396</td>\n",
       "</tr>\n",
       "<tr>\n",
       "  <th>ma.L11</th>    <td>    0.0695</td> <td>    0.345</td> <td>    0.201</td> <td> 0.840</td> <td>   -0.607</td> <td>    0.746</td>\n",
       "</tr>\n",
       "<tr>\n",
       "  <th>ma.L12</th>    <td>   -0.0327</td> <td>    0.285</td> <td>   -0.114</td> <td> 0.909</td> <td>   -0.592</td> <td>    0.527</td>\n",
       "</tr>\n",
       "<tr>\n",
       "  <th>sigma2</th>    <td>   75.3131</td> <td>   38.684</td> <td>    1.947</td> <td> 0.052</td> <td>   -0.505</td> <td>  151.132</td>\n",
       "</tr>\n",
       "</table>\n",
       "<table class=\"simpletable\">\n",
       "<tr>\n",
       "  <th>Ljung-Box (L1) (Q):</th>     <td>0.01</td> <th>  Jarque-Bera (JB):  </th> <td>2.36</td>\n",
       "</tr>\n",
       "<tr>\n",
       "  <th>Prob(Q):</th>                <td>0.92</td> <th>  Prob(JB):          </th> <td>0.31</td>\n",
       "</tr>\n",
       "<tr>\n",
       "  <th>Heteroskedasticity (H):</th> <td>2.12</td> <th>  Skew:              </th> <td>0.41</td>\n",
       "</tr>\n",
       "<tr>\n",
       "  <th>Prob(H) (two-sided):</th>    <td>0.06</td> <th>  Kurtosis:          </th> <td>2.95</td>\n",
       "</tr>\n",
       "</table><br/><br/>Warnings:<br/>[1] Covariance matrix calculated using the outer product of gradients (complex-step)."
      ],
      "text/latex": [
       "\\begin{center}\n",
       "\\begin{tabular}{lclc}\n",
       "\\toprule\n",
       "\\textbf{Dep. Variable:}          &         y          & \\textbf{  No. Observations:  } &     84      \\\\\n",
       "\\textbf{Model:}                  & SARIMAX(11, 2, 12) & \\textbf{  Log Likelihood     } &  -305.507   \\\\\n",
       "\\textbf{Date:}                   &  Thu, 07 Nov 2024  & \\textbf{  AIC                } &  661.013    \\\\\n",
       "\\textbf{Time:}                   &      20:29:34      & \\textbf{  BIC                } &  721.181    \\\\\n",
       "\\textbf{Sample:}                 &     01-01-1949     & \\textbf{  HQIC               } &  685.170    \\\\\n",
       "\\textbf{}                        &    - 12-01-1955    & \\textbf{                     } &             \\\\\n",
       "\\textbf{Covariance Type:}        &        opg         & \\textbf{                     } &             \\\\\n",
       "\\bottomrule\n",
       "\\end{tabular}\n",
       "\\begin{tabular}{lcccccc}\n",
       "                   & \\textbf{coef} & \\textbf{std err} & \\textbf{z} & \\textbf{P$> |$z$|$} & \\textbf{[0.025} & \\textbf{0.975]}  \\\\\n",
       "\\midrule\n",
       "\\textbf{intercept} &       0.2870  &        0.272     &     1.053  &         0.292        &       -0.247    &        0.821     \\\\\n",
       "\\textbf{ar.L1}     &      -0.8056  &        0.422     &    -1.908  &         0.056        &       -1.633    &        0.022     \\\\\n",
       "\\textbf{ar.L2}     &      -0.9262  &        0.147     &    -6.317  &         0.000        &       -1.214    &       -0.639     \\\\\n",
       "\\textbf{ar.L3}     &      -0.8276  &        0.385     &    -2.147  &         0.032        &       -1.583    &       -0.072     \\\\\n",
       "\\textbf{ar.L4}     &      -0.8579  &        0.110     &    -7.770  &         0.000        &       -1.074    &       -0.642     \\\\\n",
       "\\textbf{ar.L5}     &      -0.8904  &        0.391     &    -2.280  &         0.023        &       -1.656    &       -0.125     \\\\\n",
       "\\textbf{ar.L6}     &      -0.7605  &        0.157     &    -4.854  &         0.000        &       -1.068    &       -0.453     \\\\\n",
       "\\textbf{ar.L7}     &      -0.8944  &        0.321     &    -2.785  &         0.005        &       -1.524    &       -0.265     \\\\\n",
       "\\textbf{ar.L8}     &      -0.8434  &        0.144     &    -5.844  &         0.000        &       -1.126    &       -0.561     \\\\\n",
       "\\textbf{ar.L9}     &      -0.9068  &        0.314     &    -2.892  &         0.004        &       -1.521    &       -0.292     \\\\\n",
       "\\textbf{ar.L10}    &      -0.8515  &        0.129     &    -6.626  &         0.000        &       -1.103    &       -0.600     \\\\\n",
       "\\textbf{ar.L11}    &      -0.7663  &        0.297     &    -2.582  &         0.010        &       -1.348    &       -0.185     \\\\\n",
       "\\textbf{ma.L1}     &      -0.4021  &        0.954     &    -0.422  &         0.673        &       -2.271    &        1.467     \\\\\n",
       "\\textbf{ma.L2}     &       0.0513  &        1.247     &     0.041  &         0.967        &       -2.393    &        2.496     \\\\\n",
       "\\textbf{ma.L3}     &      -0.4185  &        1.206     &    -0.347  &         0.729        &       -2.782    &        1.945     \\\\\n",
       "\\textbf{ma.L4}     &       0.1215  &        1.574     &     0.077  &         0.938        &       -2.964    &        3.207     \\\\\n",
       "\\textbf{ma.L5}     &       0.0109  &        1.654     &     0.007  &         0.995        &       -3.230    &        3.252     \\\\\n",
       "\\textbf{ma.L6}     &      -0.2157  &        1.542     &    -0.140  &         0.889        &       -3.238    &        2.807     \\\\\n",
       "\\textbf{ma.L7}     &       0.2888  &        1.276     &     0.226  &         0.821        &       -2.212    &        2.790     \\\\\n",
       "\\textbf{ma.L8}     &      -0.4422  &        0.992     &    -0.446  &         0.656        &       -2.387    &        1.502     \\\\\n",
       "\\textbf{ma.L9}     &       0.4569  &        0.660     &     0.692  &         0.489        &       -0.837    &        1.750     \\\\\n",
       "\\textbf{ma.L10}    &      -0.4371  &        0.425     &    -1.029  &         0.304        &       -1.270    &        0.396     \\\\\n",
       "\\textbf{ma.L11}    &       0.0695  &        0.345     &     0.201  &         0.840        &       -0.607    &        0.746     \\\\\n",
       "\\textbf{ma.L12}    &      -0.0327  &        0.285     &    -0.114  &         0.909        &       -0.592    &        0.527     \\\\\n",
       "\\textbf{sigma2}    &      75.3131  &       38.684     &     1.947  &         0.052        &       -0.505    &      151.132     \\\\\n",
       "\\bottomrule\n",
       "\\end{tabular}\n",
       "\\begin{tabular}{lclc}\n",
       "\\textbf{Ljung-Box (L1) (Q):}     & 0.01 & \\textbf{  Jarque-Bera (JB):  } & 2.36  \\\\\n",
       "\\textbf{Prob(Q):}                & 0.92 & \\textbf{  Prob(JB):          } & 0.31  \\\\\n",
       "\\textbf{Heteroskedasticity (H):} & 2.12 & \\textbf{  Skew:              } & 0.41  \\\\\n",
       "\\textbf{Prob(H) (two-sided):}    & 0.06 & \\textbf{  Kurtosis:          } & 2.95  \\\\\n",
       "\\bottomrule\n",
       "\\end{tabular}\n",
       "%\\caption{SARIMAX Results}\n",
       "\\end{center}\n",
       "\n",
       "Warnings: \\newline\n",
       " [1] Covariance matrix calculated using the outer product of gradients (complex-step)."
      ],
      "text/plain": [
       "<class 'statsmodels.iolib.summary.Summary'>\n",
       "\"\"\"\n",
       "                               SARIMAX Results                                \n",
       "==============================================================================\n",
       "Dep. Variable:                      y   No. Observations:                   84\n",
       "Model:             SARIMAX(11, 2, 12)   Log Likelihood                -305.507\n",
       "Date:                Thu, 07 Nov 2024   AIC                            661.013\n",
       "Time:                        20:29:34   BIC                            721.181\n",
       "Sample:                    01-01-1949   HQIC                           685.170\n",
       "                         - 12-01-1955                                         \n",
       "Covariance Type:                  opg                                         \n",
       "==============================================================================\n",
       "                 coef    std err          z      P>|z|      [0.025      0.975]\n",
       "------------------------------------------------------------------------------\n",
       "intercept      0.2870      0.272      1.053      0.292      -0.247       0.821\n",
       "ar.L1         -0.8056      0.422     -1.908      0.056      -1.633       0.022\n",
       "ar.L2         -0.9262      0.147     -6.317      0.000      -1.214      -0.639\n",
       "ar.L3         -0.8276      0.385     -2.147      0.032      -1.583      -0.072\n",
       "ar.L4         -0.8579      0.110     -7.770      0.000      -1.074      -0.642\n",
       "ar.L5         -0.8904      0.391     -2.280      0.023      -1.656      -0.125\n",
       "ar.L6         -0.7605      0.157     -4.854      0.000      -1.068      -0.453\n",
       "ar.L7         -0.8944      0.321     -2.785      0.005      -1.524      -0.265\n",
       "ar.L8         -0.8434      0.144     -5.844      0.000      -1.126      -0.561\n",
       "ar.L9         -0.9068      0.314     -2.892      0.004      -1.521      -0.292\n",
       "ar.L10        -0.8515      0.129     -6.626      0.000      -1.103      -0.600\n",
       "ar.L11        -0.7663      0.297     -2.582      0.010      -1.348      -0.185\n",
       "ma.L1         -0.4021      0.954     -0.422      0.673      -2.271       1.467\n",
       "ma.L2          0.0513      1.247      0.041      0.967      -2.393       2.496\n",
       "ma.L3         -0.4185      1.206     -0.347      0.729      -2.782       1.945\n",
       "ma.L4          0.1215      1.574      0.077      0.938      -2.964       3.207\n",
       "ma.L5          0.0109      1.654      0.007      0.995      -3.230       3.252\n",
       "ma.L6         -0.2157      1.542     -0.140      0.889      -3.238       2.807\n",
       "ma.L7          0.2888      1.276      0.226      0.821      -2.212       2.790\n",
       "ma.L8         -0.4422      0.992     -0.446      0.656      -2.387       1.502\n",
       "ma.L9          0.4569      0.660      0.692      0.489      -0.837       1.750\n",
       "ma.L10        -0.4371      0.425     -1.029      0.304      -1.270       0.396\n",
       "ma.L11         0.0695      0.345      0.201      0.840      -0.607       0.746\n",
       "ma.L12        -0.0327      0.285     -0.114      0.909      -0.592       0.527\n",
       "sigma2        75.3131     38.684      1.947      0.052      -0.505     151.132\n",
       "===================================================================================\n",
       "Ljung-Box (L1) (Q):                   0.01   Jarque-Bera (JB):                 2.36\n",
       "Prob(Q):                              0.92   Prob(JB):                         0.31\n",
       "Heteroskedasticity (H):               2.12   Skew:                             0.41\n",
       "Prob(H) (two-sided):                  0.06   Kurtosis:                         2.95\n",
       "===================================================================================\n",
       "\n",
       "Warnings:\n",
       "[1] Covariance matrix calculated using the outer product of gradients (complex-step).\n",
       "\"\"\""
      ]
     },
     "execution_count": 35,
     "metadata": {},
     "output_type": "execute_result"
    }
   ],
   "source": [
    "model_pmdarima_fit.summary()"
   ]
  },
  {
   "cell_type": "code",
   "execution_count": 36,
   "id": "d9a7bedb-8f2c-488b-b2f1-54705e67f078",
   "metadata": {},
   "outputs": [
    {
     "name": "stdout",
     "output_type": "stream",
     "text": [
      "1956-01-01 00:00:00\n",
      "1960-12-01 00:00:00\n"
     ]
    }
   ],
   "source": [
    "pred_start_date = test_data.index[0]\n",
    "pred_end_date = test_data.index[-1]\n",
    "print(pred_start_date)\n",
    "print(pred_end_date)"
   ]
  },
  {
   "cell_type": "code",
   "execution_count": 37,
   "id": "bde272ea-0843-4d8e-a0d8-55a195acac15",
   "metadata": {},
   "outputs": [
    {
     "data": {
      "text/plain": [
       "60"
      ]
     },
     "execution_count": 37,
     "metadata": {},
     "output_type": "execute_result"
    }
   ],
   "source": [
    "len(test_data)"
   ]
  },
  {
   "cell_type": "code",
   "execution_count": 38,
   "id": "24965179-9965-45c4-8df3-7576028878fa",
   "metadata": {},
   "outputs": [],
   "source": [
    "pred = model_pmdarima_fit.predict(n_periods=60,start=pred_start_date,end=pred_end_date)"
   ]
  },
  {
   "cell_type": "code",
   "execution_count": 39,
   "id": "dddafcbf-2660-4c9a-b946-0ae43d725519",
   "metadata": {
    "scrolled": true
   },
   "outputs": [
    {
     "data": {
      "text/plain": [
       "1956-01-01    288.317066\n",
       "1956-02-01    285.522553\n",
       "1956-03-01    298.851593\n",
       "1956-04-01    310.601236\n",
       "1956-05-01    312.345717\n",
       "1956-06-01    354.328761\n",
       "1956-07-01    404.878357\n",
       "1956-08-01    380.957635\n",
       "1956-09-01    356.112747\n",
       "1956-10-01    319.067502\n",
       "1956-11-01    286.731720\n",
       "1956-12-01    318.429522\n",
       "1957-01-01    335.345201\n",
       "1957-02-01    325.638742\n",
       "1957-03-01    338.514054\n",
       "1957-04-01    349.794329\n",
       "1957-05-01    356.940048\n",
       "1957-06-01    401.559597\n",
       "1957-07-01    444.674521\n",
       "1957-08-01    425.551703\n",
       "1957-09-01    398.581981\n",
       "1957-10-01    367.381513\n",
       "1957-11-01    339.757479\n",
       "1957-12-01    364.751293\n",
       "1958-01-01    383.711226\n",
       "1958-02-01    371.615531\n",
       "1958-03-01    381.232257\n",
       "1958-04-01    394.425322\n",
       "1958-05-01    405.624917\n",
       "1958-06-01    451.070633\n",
       "1958-07-01    489.848657\n",
       "1958-08-01    472.825200\n",
       "1958-09-01    446.239012\n",
       "1958-10-01    419.218439\n",
       "1958-11-01    396.081149\n",
       "1958-12-01    416.330787\n",
       "1959-01-01    434.754828\n",
       "1959-02-01    422.065854\n",
       "1959-03-01    428.277047\n",
       "1959-04-01    443.555671\n",
       "1959-05-01    458.529667\n",
       "1959-06-01    503.508941\n",
       "1959-07-01    539.475313\n",
       "1959-08-01    523.721921\n",
       "1959-09-01    498.302163\n",
       "1959-10-01    475.023079\n",
       "1959-11-01    455.777726\n",
       "1959-12-01    472.542564\n",
       "1960-01-01    489.220523\n",
       "1960-02-01    476.493705\n",
       "1960-03-01    479.968874\n",
       "1960-04-01    496.994250\n",
       "1960-05-01    515.480786\n",
       "1960-06-01    559.336624\n",
       "1960-07-01    593.136703\n",
       "1960-08-01    578.563791\n",
       "1960-09-01    554.570082\n",
       "1960-10-01    534.840306\n",
       "1960-11-01    519.005892\n",
       "1960-12-01    533.005807\n",
       "Freq: MS, dtype: float64"
      ]
     },
     "execution_count": 39,
     "metadata": {},
     "output_type": "execute_result"
    }
   ],
   "source": [
    "pred"
   ]
  },
  {
   "cell_type": "code",
   "execution_count": 40,
   "id": "434f2116-f576-4737-a8e4-8bf66aa9b6d4",
   "metadata": {},
   "outputs": [],
   "source": [
    "residuals = test_data[\"Thousands of Passengers\"]-pred"
   ]
  },
  {
   "cell_type": "code",
   "execution_count": 41,
   "id": "6f9f541e-eead-4eb2-963c-8815dd3854d1",
   "metadata": {
    "scrolled": true
   },
   "outputs": [
    {
     "data": {
      "text/plain": [
       "Month\n",
       "1956-01-01     -4.317066\n",
       "1956-02-01     -8.522553\n",
       "1956-03-01     18.148407\n",
       "1956-04-01      2.398764\n",
       "1956-05-01      5.654283\n",
       "1956-06-01     19.671239\n",
       "1956-07-01      8.121643\n",
       "1956-08-01     24.042365\n",
       "1956-09-01     -1.112747\n",
       "1956-10-01    -13.067502\n",
       "1956-11-01    -15.731720\n",
       "1956-12-01    -12.429522\n",
       "1957-01-01    -20.345201\n",
       "1957-02-01    -24.638742\n",
       "1957-03-01     17.485946\n",
       "1957-04-01     -1.794329\n",
       "1957-05-01     -1.940048\n",
       "1957-06-01     20.440403\n",
       "1957-07-01     20.325479\n",
       "1957-08-01     41.448297\n",
       "1957-09-01      5.418019\n",
       "1957-10-01    -20.381513\n",
       "1957-11-01    -34.757479\n",
       "1957-12-01    -28.751293\n",
       "1958-01-01    -43.711226\n",
       "1958-02-01    -53.615531\n",
       "1958-03-01    -19.232257\n",
       "1958-04-01    -46.425322\n",
       "1958-05-01    -42.624917\n",
       "1958-06-01    -16.070633\n",
       "1958-07-01      1.151343\n",
       "1958-08-01     32.174800\n",
       "1958-09-01    -42.239012\n",
       "1958-10-01    -60.218439\n",
       "1958-11-01    -86.081149\n",
       "1958-12-01    -79.330787\n",
       "1959-01-01    -74.754828\n",
       "1959-02-01    -80.065854\n",
       "1959-03-01    -22.277047\n",
       "1959-04-01    -47.555671\n",
       "1959-05-01    -38.529667\n",
       "1959-06-01    -31.508941\n",
       "1959-07-01      8.524687\n",
       "1959-08-01     35.278079\n",
       "1959-09-01    -35.302163\n",
       "1959-10-01    -68.023079\n",
       "1959-11-01    -93.777726\n",
       "1959-12-01    -67.542564\n",
       "1960-01-01    -72.220523\n",
       "1960-02-01    -85.493705\n",
       "1960-03-01    -60.968874\n",
       "1960-04-01    -35.994250\n",
       "1960-05-01    -43.480786\n",
       "1960-06-01    -24.336624\n",
       "1960-07-01     28.863297\n",
       "1960-08-01     27.436209\n",
       "1960-09-01    -46.570082\n",
       "1960-10-01    -73.840306\n",
       "1960-11-01   -129.005892\n",
       "1960-12-01   -101.005807\n",
       "dtype: float64"
      ]
     },
     "execution_count": 41,
     "metadata": {},
     "output_type": "execute_result"
    }
   ],
   "source": [
    "residuals"
   ]
  },
  {
   "cell_type": "code",
   "execution_count": 42,
   "id": "01de10f6-8356-48d1-a47c-c4dd9b36b3fe",
   "metadata": {},
   "outputs": [
    {
     "data": {
      "text/plain": [
       "<Axes: ylabel='Density'>"
      ]
     },
     "execution_count": 42,
     "metadata": {},
     "output_type": "execute_result"
    },
    {
     "data": {
      "image/png": "[encoded data removed]",
      "text/plain": [
       "<Figure size 640x480 with 1 Axes>"
      ]
     },
     "metadata": {},
     "output_type": "display_data"
    }
   ],
   "source": [
    "residuals.plot(kind=\"kde\")"
   ]
  },
  {
   "cell_type": "code",
   "execution_count": 43,
   "id": "d4ad6796-1ccc-4f26-94b4-14c77f801514",
   "metadata": {},
   "outputs": [
    {
     "name": "stderr",
     "output_type": "stream",
     "text": [
      "C:\\Users\\Nags\\AppData\\Local\\Temp\\ipykernel_7200\\1786292712.py:1: SettingWithCopyWarning: \n",
      "A value is trying to be set on a copy of a slice from a DataFrame.\n",
      "Try using .loc[row_indexer,col_indexer] = value instead\n",
      "\n",
      "See the caveats in the documentation: https://pandas.pydata.org/pandas-docs/stable/user_guide/indexing.html#returning-a-view-versus-a-copy\n",
      "  test_data.loc[:, \"Predicted ARIMA\"] = pred\n"
     ]
    }
   ],
   "source": [
    "test_data.loc[:, \"Predicted ARIMA\"] = pred"
   ]
  },
  {
   "cell_type": "code",
   "execution_count": 44,
   "id": "d22cec59-1a86-428e-a478-0c73ce04cfae",
   "metadata": {},
   "outputs": [
    {
     "data": {
      "text/plain": [
       "<Axes: xlabel='Month'>"
      ]
     },
     "execution_count": 44,
     "metadata": {},
     "output_type": "execute_result"
    },
    {
     "data": {
      "image/png": "[encoded data removed]",
      "text/plain": [
       "<Figure size 640x480 with 1 Axes>"
      ]
     },
     "metadata": {},
     "output_type": "display_data"
    }
   ],
   "source": [
    "test_data[[\"Thousands of Passengers\",\"Predicted ARIMA\"]].plot()"
   ]
  },
  {
   "cell_type": "markdown",
   "id": "40474e3f-ee7c-49c2-a0b3-90b8f776586b",
   "metadata": {},
   "source": [
    "### For seasonal data sometimes ARIMA won't works.use SARIMAX at that time"
   ]
  },
  {
   "cell_type": "code",
   "execution_count": 45,
   "id": "05c1d339-db0f-4aa3-a00e-b137627078b1",
   "metadata": {},
   "outputs": [],
   "source": [
    "from statsmodels.tsa.statespace.sarimax import SARIMAX"
   ]
  },
  {
   "cell_type": "code",
   "execution_count": 46,
   "id": "094bba6e-1ad3-4fc8-88f5-39aa461f3ede",
   "metadata": {},
   "outputs": [
    {
     "name": "stderr",
     "output_type": "stream",
     "text": [
      "C:\\Users\\Nags\\anaconda3\\Lib\\site-packages\\statsmodels\\tsa\\base\\tsa_model.py:473: ValueWarning: No frequency information was provided, so inferred frequency MS will be used.\n",
      "  self._init_dates(dates, freq)\n",
      "C:\\Users\\Nags\\anaconda3\\Lib\\site-packages\\statsmodels\\tsa\\base\\tsa_model.py:473: ValueWarning: No frequency information was provided, so inferred frequency MS will be used.\n",
      "  self._init_dates(dates, freq)\n"
     ]
    }
   ],
   "source": [
    "model_sarima = SARIMAX(train_data[\"Thousands of Passengers\"],order=(2,0,5),seasonal_order=(0,1,0,12))"
   ]
  },
  {
   "cell_type": "code",
   "execution_count": 47,
   "id": "590ca879-b67e-4aa7-abc2-8a14dd12b902",
   "metadata": {},
   "outputs": [],
   "source": [
    "model_sarima_fit = model_sarima.fit()"
   ]
  },
  {
   "cell_type": "code",
   "execution_count": 48,
   "id": "b2b369a6-2e39-45b4-8577-85a578ef962b",
   "metadata": {},
   "outputs": [],
   "source": [
    "pred_sarima = model_sarima_fit.predict(start=pred_start_date,end=pred_end_date)"
   ]
  },
  {
   "cell_type": "code",
   "execution_count": 49,
   "id": "bdbf8b3f-89c8-44bf-b1b0-ea02403b44d4",
   "metadata": {},
   "outputs": [],
   "source": [
    "residuals = test_data[\"Thousands of Passengers\"]-pred_sarima"
   ]
  },
  {
   "cell_type": "code",
   "execution_count": 50,
   "id": "4c0ac1c8-cf8d-485f-9a01-314a987065ca",
   "metadata": {},
   "outputs": [
    {
     "data": {
      "text/plain": [
       "<Axes: ylabel='Density'>"
      ]
     },
     "execution_count": 50,
     "metadata": {},
     "output_type": "execute_result"
    },
    {
     "data": {
      "image/png": "[encoded data removed]",
      "text/plain": [
       "<Figure size 640x480 with 1 Axes>"
      ]
     },
     "metadata": {},
     "output_type": "display_data"
    }
   ],
   "source": [
    "residuals.plot(kind=\"kde\")"
   ]
  },
  {
   "cell_type": "code",
   "execution_count": 51,
   "id": "b9044599-85ae-4786-bec8-20f61558af7a",
   "metadata": {},
   "outputs": [
    {
     "name": "stderr",
     "output_type": "stream",
     "text": [
      "C:\\Users\\Nags\\AppData\\Local\\Temp\\ipykernel_7200\\1257791920.py:1: SettingWithCopyWarning: \n",
      "A value is trying to be set on a copy of a slice from a DataFrame.\n",
      "Try using .loc[row_indexer,col_indexer] = value instead\n",
      "\n",
      "See the caveats in the documentation: https://pandas.pydata.org/pandas-docs/stable/user_guide/indexing.html#returning-a-view-versus-a-copy\n",
      "  test_data.loc[:, \"Predicted SARIMAX\"] = pred_sarima\n"
     ]
    }
   ],
   "source": [
    "test_data.loc[:, \"Predicted SARIMAX\"] = pred_sarima"
   ]
  },
  {
   "cell_type": "code",
   "execution_count": 52,
   "id": "126d39f8-cb47-4138-bfcb-3ad2ef3ad130",
   "metadata": {},
   "outputs": [
    {
     "data": {
      "text/plain": [
       "<Axes: xlabel='Month'>"
      ]
     },
     "execution_count": 52,
     "metadata": {},
     "output_type": "execute_result"
    },
    {
     "data": {
      "image/png": "[encoded data removed]",
      "text/plain": [
       "<Figure size 640x480 with 1 Axes>"
      ]
     },
     "metadata": {},
     "output_type": "display_data"
    }
   ],
   "source": [
    "test_data[[\"Thousands of Passengers\",\"Predicted SARIMAX\"]].plot()"
   ]
  },
  {
   "cell_type": "code",
   "execution_count": null,
   "id": "8f3bdb12-5c94-441a-8f5b-13b0a11e92ae",
   "metadata": {},
   "outputs": [],
   "source": []
  },
  {
   "cell_type": "code",
   "execution_count": 55,
   "id": "1972b3b6-c77c-40c0-85ff-041f6211b4ef",
   "metadata": {},
   "outputs": [
    {
     "ename": "SyntaxError",
     "evalue": "invalid syntax. Perhaps you forgot a comma? (2366608253.py, line 1)",
     "output_type": "error",
     "traceback": [
      "\u001b[1;36m  Cell \u001b[1;32mIn[55], line 1\u001b[1;36m\u001b[0m\n\u001b[1;33m    boxplot(Thousands of Passengers~cycle(Thousands of Passengers))\u001b[0m\n\u001b[1;37m            ^\u001b[0m\n\u001b[1;31mSyntaxError\u001b[0m\u001b[1;31m:\u001b[0m invalid syntax. Perhaps you forgot a comma?\n"
     ]
    }
   ],
   "source": [
    "boxplot(Thousands of Passengers~cycle(Thousands of Passengers))"
   ]
  },
  {
   "cell_type": "code",
   "execution_count": null,
   "id": "bc635915-d72f-4233-a347-d582f71b0d84",
   "metadata": {},
   "outputs": [],
   "source": []
  }
 ],
 "metadata": {
  "kernelspec": {
   "display_name": "Python 3 (ipykernel)",
   "language": "python",
   "name": "python3"
  },
  "language_info": {
   "codemirror_mode": {
    "name": "ipython",
    "version": 3
   },
   "file_extension": ".py",
   "mimetype": "text/x-python",
   "name": "python",
   "nbconvert_exporter": "python",
   "pygments_lexer": "ipython3",
   "version": "3.11.7"
  }
 },
 "nbformat": 4,
 "nbformat_minor": 5
}
