{
 "cells": [
  {
   "cell_type": "code",
   "execution_count": null,
   "id": "9053cb1e-b683-46de-9518-d50d27160302",
   "metadata": {},
   "outputs": [],
   "source": [
    "data.info()"
   ]
  },
  {
   "cell_type": "code",
   "execution_count": null,
   "id": "3f0b35f9-e85a-471a-be0e-ca9cb06b49d1",
   "metadata": {},
   "outputs": [],
   "source": [
    "df_copy[\"Classes\"].value_counts(normalize=True)*100"
   ]
  },
  {
   "cell_type": "code",
   "execution_count": null,
   "id": "fa176b83-5487-4ce6-9560-f056ef27b2c8",
   "metadata": {},
   "outputs": [],
   "source": [
    "#df.isnull().any(axis=1)\n",
    "# better view is\n",
    "df[df.isnull().any(axis=1)]"
   ]
  },
  {
   "cell_type": "code",
   "execution_count": null,
   "id": "a2b1ef7f-513b-48ee-9802-a8d6b1a3e523",
   "metadata": {},
   "outputs": [],
   "source": [
    "pd.set_option(\"display.max_columns\",37) #for rows also we can use this method"
   ]
  },
  {
   "cell_type": "markdown",
   "id": "ae42f969-d506-4d4c-999a-2101dd243478",
   "metadata": {},
   "source": [
    "# ROW OPERATIONS"
   ]
  },
  {
   "cell_type": "markdown",
   "id": "dd85ecb6-0568-42a9-b16d-199fb786d3df",
   "metadata": {},
   "source": [
    "#### To find the index of particular row"
   ]
  },
  {
   "cell_type": "code",
   "execution_count": null,
   "id": "b034d3da-b1ed-4ef4-af5b-ac5948c0b470",
   "metadata": {},
   "outputs": [],
   "source": [
    "df.index[df[\"day\"] == \"Sidi-Bel Abbes Region Dataset\"][0]"
   ]
  },
  {
   "cell_type": "markdown",
   "id": "7d9a57f1-ec5f-4fb2-8d5f-79aa411d302a",
   "metadata": {},
   "source": [
    "#### if you want to print the 1st 5 rows and 2 column"
   ]
  },
  {
   "cell_type": "code",
   "execution_count": null,
   "id": "5c0e8243-9f5f-420a-b3c8-80fa29a7c30f",
   "metadata": {},
   "outputs": [],
   "source": [
    "df.iloc[:5,:2]"
   ]
  },
  {
   "cell_type": "markdown",
   "id": "59edf934-b21f-4199-943f-4fa81c38ab63",
   "metadata": {},
   "source": [
    "#### To print the rows of 3's multiple"
   ]
  },
  {
   "cell_type": "code",
   "execution_count": null,
   "id": "ccbfb03d-1bab-4ea1-a8f2-d9cd515f68de",
   "metadata": {},
   "outputs": [],
   "source": [
    "df.iloc[::3]"
   ]
  },
  {
   "cell_type": "markdown",
   "id": "bd268221-84e6-461c-b8c9-6998f2584432",
   "metadata": {},
   "source": [
    "#### To work with label names "
   ]
  },
  {
   "cell_type": "code",
   "execution_count": null,
   "id": "c46b3107-c147-4214-8386-eef01aca38f0",
   "metadata": {},
   "outputs": [],
   "source": [
    "df.loc[:3,'A']"
   ]
  },
  {
   "cell_type": "markdown",
   "id": "3a3280a1-b00e-40c6-9e38-9567098779de",
   "metadata": {},
   "source": [
    "#### To add value to new columns upto particular row"
   ]
  },
  {
   "cell_type": "code",
   "execution_count": null,
   "id": "b00ffe06-9e8c-475c-a838-909fe31849a9",
   "metadata": {},
   "outputs": [],
   "source": [
    "df.loc[:122,\"Region\"] = 0\n",
    "df.loc[122:,\"Region\"] = 1"
   ]
  },
  {
   "cell_type": "markdown",
   "id": "0e8e69d6-37dc-4265-8be3-379fd41a9b96",
   "metadata": {},
   "source": [
    "#### To delete all the rows which contains any null values"
   ]
  },
  {
   "cell_type": "code",
   "execution_count": null,
   "id": "eae0ba6e-d45e-4be0-9a3a-8657aa4a90e9",
   "metadata": {},
   "outputs": [],
   "source": [
    "df = df.dropna().reset_index(drop=True) # aftr deleting the rows reset index is needed"
   ]
  },
  {
   "cell_type": "markdown",
   "id": "2a65da1c-b62a-4a3a-a4f5-1a54cd384a1b",
   "metadata": {},
   "source": [
    "### To see a particular row in df using index number"
   ]
  },
  {
   "cell_type": "code",
   "execution_count": null,
   "id": "a5d58e0b-e756-4c40-ac7c-4acc14387ab6",
   "metadata": {},
   "outputs": [],
   "source": [
    "cost2_view.iloc[[2]]"
   ]
  },
  {
   "cell_type": "code",
   "execution_count": null,
   "id": "20521092-1bd1-4eb8-91a1-6cb05f9fcd7a",
   "metadata": {},
   "outputs": [],
   "source": [
    "# to know about that row\n",
    "cost2_view.iloc[2]"
   ]
  },
  {
   "cell_type": "markdown",
   "id": "6f2b022e-e876-4093-be10-a6f69cf3a6f2",
   "metadata": {},
   "source": [
    "### delete the row using index number"
   ]
  },
  {
   "cell_type": "code",
   "execution_count": null,
   "id": "f38b4854-4d36-473c-9a6d-e8aa3daa8274",
   "metadata": {},
   "outputs": [],
   "source": [
    "df = df.drop(122).reset_index(drop=True)"
   ]
  },
  {
   "cell_type": "markdown",
   "id": "496a6bb4-6e66-4a52-8feb-9552a0bf36f0",
   "metadata": {},
   "source": [
    "#### To find the sum of elements in a row"
   ]
  },
  {
   "cell_type": "code",
   "execution_count": null,
   "id": "80ced949-366d-4c59-9029-9764b5e6736c",
   "metadata": {},
   "outputs": [],
   "source": [
    "ply_df.iloc[74,ply_df.columns != 'Channel'].sum()"
   ]
  },
  {
   "cell_type": "markdown",
   "id": "51767af2-77ff-4bef-adfd-f7eceed7aaec",
   "metadata": {},
   "source": [
    "### To highlet a row"
   ]
  },
  {
   "cell_type": "code",
   "execution_count": null,
   "id": "5c0962c5-869c-4d8a-83a1-7e67a537e12c",
   "metadata": {},
   "outputs": [],
   "source": [
    "# Define the function to highlight the \"Grand Total\" row\n",
    "def highlight_grand_total(row):\n",
    "    return ['background-color: darkgrey' if row.Brand == \"Grand Total\" else '' for _ in row]\n",
    "\n",
    "# Apply the highlighting function\n",
    "tvc_used_brand_styled = tvc_used_brand.style.apply(highlight_grand_total, axis=1)"
   ]
  },
  {
   "cell_type": "code",
   "execution_count": null,
   "id": "11561b87-7ce5-4617-ac8e-3bcc56a98dbd",
   "metadata": {},
   "outputs": [],
   "source": []
  },
  {
   "cell_type": "markdown",
   "id": "e045fbf6-de18-4707-ac54-c219f2d0bb00",
   "metadata": {},
   "source": [
    "# COLUMN OPERATIONS"
   ]
  },
  {
   "cell_type": "markdown",
   "id": "2d5030d5-1c55-496e-ba5c-61cf353e3325",
   "metadata": {},
   "source": [
    "#### Fix spaces in columns names"
   ]
  },
  {
   "cell_type": "code",
   "execution_count": null,
   "id": "58a6849c-99fc-424d-9b1c-824b8a578860",
   "metadata": {},
   "outputs": [],
   "source": [
    "df.columns = df.columns.str.strip()"
   ]
  },
  {
   "cell_type": "markdown",
   "id": "49091a67-312c-4240-b911-c04dddd6d98b",
   "metadata": {},
   "source": [
    "#### When you have lot of columns and you want to change the datatypes of it"
   ]
  },
  {
   "cell_type": "code",
   "execution_count": null,
   "id": "51770657-4f28-488b-a639-8c46c54bf2e8",
   "metadata": {},
   "outputs": [],
   "source": [
    "objects = [features for features in df.columns if df[features] == 'object']\n",
    "for i in objects :\n",
    "    df[i] = df[i].astype(int)"
   ]
  },
  {
   "cell_type": "markdown",
   "id": "6b52eed7-ca77-43fe-80a5-78714d8889d7",
   "metadata": {},
   "source": [
    "#### To rename the column"
   ]
  },
  {
   "cell_type": "code",
   "execution_count": null,
   "id": "85a708a3-724a-4305-8730-773369144b3f",
   "metadata": {},
   "outputs": [],
   "source": [
    "df.rename(columns={'old_name1': 'new_name1', 'old_name2': 'new_name2'}, inplace=True)"
   ]
  },
  {
   "cell_type": "markdown",
   "id": "caa0bae6-05a9-4bba-a22c-d1b5232415e1",
   "metadata": {},
   "source": [
    "#### To check if the 2 columns are equal or not"
   ]
  },
  {
   "cell_type": "code",
   "execution_count": null,
   "id": "4448b173-8ca5-4d69-9e00-a0c0391b60f9",
   "metadata": {},
   "outputs": [],
   "source": [
    "columns_eql = (tvc_used[\"TVC Duration\"]==tvc_used[\"FCT\"]).all()\n",
    "print(columns_eql)"
   ]
  },
  {
   "cell_type": "code",
   "execution_count": null,
   "id": "f40a1c5c-ab2b-42a3-a914-0622e12524a0",
   "metadata": {},
   "outputs": [],
   "source": [
    "columns_eql = data[\"Acutal Quantity\"]==data[\"Billed Quantity\"]\n",
    "\n",
    "percentage_equal = columns_eql.mean() * 100\n",
    "\n",
    "print(f\"Percentage of equality: {percentage_equal:.2f}%\")"
   ]
  },
  {
   "cell_type": "markdown",
   "id": "e39ee573-6128-4d57-8a4c-cd2489641979",
   "metadata": {},
   "source": [
    "#### Multi_index columns"
   ]
  },
  {
   "cell_type": "code",
   "execution_count": null,
   "id": "213cbaf5-f86f-4568-ad28-827c5eb515ef",
   "metadata": {},
   "outputs": [],
   "source": [
    "columns = pd.MultiIndex.from_arrays([\n",
    "    [\"Channel\"]+all_dates,[\"\"]+week_days\n",
    "])\n",
    "we can create using tuples etc"
   ]
  },
  {
   "cell_type": "code",
   "execution_count": null,
   "id": "e7a5112b-3053-47e5-a75b-38c76f3b31a9",
   "metadata": {},
   "outputs": [],
   "source": [
    "# Get columns that contain only null values\n",
    "null_columns = df.columns[df.isnull().all()].tolist()"
   ]
  },
  {
   "cell_type": "code",
   "execution_count": null,
   "id": "c30e4641-5b41-4ff9-b3c0-4f7078fd6c8c",
   "metadata": {},
   "outputs": [],
   "source": [
    "# Drop columns where all values are null\n",
    "df_cleaned = df.dropna(axis=1, how='all')"
   ]
  },
  {
   "cell_type": "code",
   "execution_count": null,
   "id": "52878b91-d4b9-422f-afdf-b72c617db484",
   "metadata": {},
   "outputs": [],
   "source": []
  },
  {
   "cell_type": "code",
   "execution_count": null,
   "id": "ffdad422-f30e-4501-bfd2-9c2afd2e2551",
   "metadata": {},
   "outputs": [],
   "source": []
  },
  {
   "cell_type": "markdown",
   "id": "00dc1862-bf4e-4604-80ca-5fe954f69a05",
   "metadata": {},
   "source": [
    "## Encoding the categories in a column"
   ]
  },
  {
   "cell_type": "code",
   "execution_count": null,
   "id": "d0a23b36-92bc-4587-bedf-5e0f0004dfee",
   "metadata": {},
   "outputs": [],
   "source": [
    "df_copy[\"Classes\"] = np.where(df_copy[\"Classes\"]==\"not fire\",0,1)"
   ]
  },
  {
   "cell_type": "code",
   "execution_count": null,
   "id": "53f01284-c4e4-4ee1-9576-fdfd616fc74c",
   "metadata": {},
   "outputs": [],
   "source": [
    "# some times \"not fire\" may be \"not fire   \",\"   not fire\" etc.\n",
    "df_copy[\"Classes\"] = np.where(df_copy[\"Classes\"].str.contains(\"not fire\"),0,1)"
   ]
  },
  {
   "cell_type": "code",
   "execution_count": null,
   "id": "a5a3aebe-b9ba-419a-98bc-2077c560d763",
   "metadata": {},
   "outputs": [],
   "source": []
  },
  {
   "cell_type": "code",
   "execution_count": null,
   "id": "dc58e424-f3e8-4d5b-9c1c-96d2d9226e6d",
   "metadata": {},
   "outputs": [],
   "source": []
  },
  {
   "cell_type": "code",
   "execution_count": null,
   "id": "0037e44c-d541-4833-96a6-09e4b72530f3",
   "metadata": {},
   "outputs": [],
   "source": [
    "# to get only 5 values for each creation_date in pivot table\n",
    "result = data_pivot.groupby(\"creation_date\").head(5)"
   ]
  },
  {
   "cell_type": "code",
   "execution_count": null,
   "id": "160e3512-73b0-4c26-863d-b1507ed8488a",
   "metadata": {},
   "outputs": [],
   "source": [
    "def agg_func(x):\n",
    "    title_list = x.value_counts().sort_values(ascending=False)\n",
    "    return (title_list.index[0], title_list.index[1] if len(title_list) > 1 else None, title_list.index[2] if len(title_list) > 2 else None, title_list.index[3] if len(title_list) > 3 else None, title_list.index[4] if len(title_list) > 4 else None)\n",
    "\n",
    "data_col = data[[\"creation_date\",\"title_id\"]]\n",
    "data_pivot = pd.pivot_table(data_col,index=[\"creation_date\"],aggfunc=agg_func)\n",
    "\n",
    "data_pivot[['book_1', 'book_2', 'book_3', 'book_4', 'book5']] = pd.DataFrame(data_pivot['title_id'].tolist(), index=data_pivot.index)"
   ]
  },
  {
   "cell_type": "code",
   "execution_count": null,
   "id": "9f6ead3b-e498-4693-ae72-685dfe40b309",
   "metadata": {},
   "outputs": [],
   "source": [
    "# For dataframe\n",
    "data.isnalL().sum()"
   ]
  },
  {
   "cell_type": "code",
   "execution_count": null,
   "id": "f3a3b65d-138d-43cc-bb08-d256ebed88e6",
   "metadata": {},
   "outputs": [],
   "source": [
    "# To check null values for particular column\n",
    "data_pivot[\"book_2\"].isna().sum()"
   ]
  },
  {
   "cell_type": "code",
   "execution_count": null,
   "id": "a94450fd-a33a-4c4a-9726-0b3744abb9ff",
   "metadata": {},
   "outputs": [],
   "source": [
    "data[\"Outlet_Size\"].fillna(data[\"Outlet_Size\"].mode()[0],inplace=True)"
   ]
  },
  {
   "cell_type": "code",
   "execution_count": null,
   "id": "26f1b830-b77a-4cc3-8dcd-777605a517a9",
   "metadata": {},
   "outputs": [],
   "source": [
    "# Get all unique data types in 'col'\n",
    "# set(...) gives the unique values\n",
    "unique_dtypes = set(df['col'].apply(lambda x: type(x)))"
   ]
  },
  {
   "cell_type": "markdown",
   "id": "d0feeba3-456b-4486-ae42-98c68af302da",
   "metadata": {},
   "source": [
    "### To check the different datatypes present in a column"
   ]
  },
  {
   "cell_type": "code",
   "execution_count": null,
   "id": "99c46834-6fd3-4ca8-9ce1-d5aaceb787fd",
   "metadata": {},
   "outputs": [],
   "source": [
    "def types(x) :\n",
    "    types = type(x)\n",
    "    return types"
   ]
  },
  {
   "cell_type": "code",
   "execution_count": null,
   "id": "4fc9293f-3dd0-48c2-8894-55bfcc5b1add",
   "metadata": {},
   "outputs": [],
   "source": [
    "types = set(data[\"# unique_id\"].apply(types))\n",
    "types"
   ]
  },
  {
   "cell_type": "code",
   "execution_count": null,
   "id": "bbbff5fb-5c33-4d48-a283-17a5619715a9",
   "metadata": {},
   "outputs": [],
   "source": []
  },
  {
   "cell_type": "markdown",
   "id": "c14bd6a7-87f7-4f15-87de-413d5d5fb173",
   "metadata": {},
   "source": [
    "### Find Corelation"
   ]
  },
  {
   "cell_type": "code",
   "execution_count": null,
   "id": "381341aa-8f56-4518-a572-e418036c27b8",
   "metadata": {},
   "outputs": [],
   "source": [
    "data.cor()"
   ]
  },
  {
   "cell_type": "code",
   "execution_count": null,
   "id": "758bb1a1-0080-4d92-a910-eec332eb58b6",
   "metadata": {},
   "outputs": [],
   "source": []
  },
  {
   "cell_type": "code",
   "execution_count": null,
   "id": "9cee1f33-1034-40b2-9162-628d9c5ea747",
   "metadata": {},
   "outputs": [],
   "source": [
    "df[\"TG0\"] = df[\"   TG\"].mask(df[\"   TG\"]==-9999,np.nan)"
   ]
  },
  {
   "cell_type": "code",
   "execution_count": null,
   "id": "cd468d95-359b-4915-a9e9-5f56f5dbdc91",
   "metadata": {},
   "outputs": [],
   "source": [
    "df.loc[df[\"price\"]==df[\"price\"].max()][\"name\"].squeeze()"
   ]
  },
  {
   "cell_type": "code",
   "execution_count": null,
   "id": "7cfb1032-2978-4b35-b80e-6003177beb5e",
   "metadata": {},
   "outputs": [],
   "source": [
    "df[df[\"points\"]==100][\"points\"].count()"
   ]
  },
  {
   "cell_type": "markdown",
   "id": "ae10caac-e5d6-43e0-a141-547029bb1de6",
   "metadata": {},
   "source": [
    "### data visualization for selected rows"
   ]
  },
  {
   "cell_type": "code",
   "execution_count": null,
   "id": "19c4d567-cef7-4e16-a09c-1074598b0cfd",
   "metadata": {},
   "outputs": [],
   "source": [
    "df[100:1000].plot(x=\"    DATE\",y=\"TG\",figsize=(15,3))"
   ]
  },
  {
   "cell_type": "markdown",
   "id": "a561f2ec-e842-4666-9f34-15a3e26f0920",
   "metadata": {},
   "source": [
    "### sns"
   ]
  },
  {
   "cell_type": "code",
   "execution_count": null,
   "id": "4ada379e-5655-4be3-8810-dbd72d21ea7a",
   "metadata": {},
   "outputs": [],
   "source": [
    "# create a grid of scatter plots for  all pairs of featurs,along with histogram\n",
    "sns.pairplot()"
   ]
  },
  {
   "cell_type": "code",
   "execution_count": null,
   "id": "b7a2a87a-2223-4e1a-8575-aec2d8416e7b",
   "metadata": {},
   "outputs": [],
   "source": []
  },
  {
   "cell_type": "markdown",
   "id": "8685ec4d-fe00-4dea-bd90-f6d04292eb7f",
   "metadata": {},
   "source": [
    "## To save as csv files"
   ]
  },
  {
   "cell_type": "code",
   "execution_count": null,
   "id": "6cee1435-a76e-4b41-886d-a67ad93ea9a0",
   "metadata": {},
   "outputs": [],
   "source": [
    "df.to_csv(\"output.csv\",index=False)"
   ]
  },
  {
   "cell_type": "markdown",
   "id": "62b2fbd3-1d7d-499f-8baf-f9d368eb9442",
   "metadata": {},
   "source": [
    "## To avoid the Warnings"
   ]
  },
  {
   "cell_type": "code",
   "execution_count": null,
   "id": "ded1de78-8452-49c4-b430-39e8fd585454",
   "metadata": {},
   "outputs": [],
   "source": [
    "import warnings\n",
    "warnings.filterwarnings('ignore')"
   ]
  },
  {
   "cell_type": "markdown",
   "id": "32115f00-4444-4bda-922b-d73bc4e5880f",
   "metadata": {},
   "source": [
    "## To print entire array"
   ]
  },
  {
   "cell_type": "code",
   "execution_count": null,
   "id": "d0f8ee6d-bf2a-40de-8fea-1823b402f692",
   "metadata": {},
   "outputs": [],
   "source": [
    "import sys\n",
    "np.set_printoptions(threshold = sys.maxsize)"
   ]
  },
  {
   "cell_type": "markdown",
   "id": "3fb7f243-94b8-4b91-b9cf-448de0cdb6f3",
   "metadata": {},
   "source": [
    "## Pivot Table"
   ]
  },
  {
   "cell_type": "code",
   "execution_count": null,
   "id": "5d786be7-4a2c-4f08-a966-0785fe93b67d",
   "metadata": {},
   "outputs": [],
   "source": [
    "pivot = pd.pivot_table(df, index=['date', 'category'], values='value', aggfunc='sum')"
   ]
  },
  {
   "cell_type": "code",
   "execution_count": null,
   "id": "cb862f66-535c-4f60-ab5f-f361996ed32b",
   "metadata": {},
   "outputs": [],
   "source": [
    "pivot_table = df.pivot_table(index=['index1', 'index2', 'index3'],\n",
    "                             values=['value_column', 'sum_column'],\n",
    "                             aggfunc={'value_column': 'first', 'sum_column': 'sum'}).reset_index()"
   ]
  },
  {
   "cell_type": "markdown",
   "id": "2ed35730-4c87-441e-bf07-1eb7d62529a0",
   "metadata": {},
   "source": [
    "## To check the percentage of missing values for a column"
   ]
  },
  {
   "cell_type": "code",
   "execution_count": null,
   "id": "18096bf1-ba73-4ecd-b8ee-42b298d2c5d8",
   "metadata": {},
   "outputs": [],
   "source": [
    "df['NumberOfTrips'].isnull().mean()"
   ]
  },
  {
   "cell_type": "markdown",
   "id": "1742a3cc-8d91-44e8-9454-5acaed285507",
   "metadata": {},
   "source": [
    "## To save as document"
   ]
  },
  {
   "cell_type": "code",
   "execution_count": null,
   "id": "4336c219-4b42-452c-9520-39cbb3440ae4",
   "metadata": {},
   "outputs": [],
   "source": [
    " from docx import Document\n",
    "\n",
    "doc = Document()\n",
    "\n",
    "cat_features = [feature for feature in clust1.columns if clust1[feature].dtype == 'O']\n",
    "num_features = [feature for feature in clust1.columns if clust1[feature].dtypes != 'O']\n",
    "discrete_features=[feature for feature in num_features if len(clust1[feature].unique())<=25]\n",
    "continuous_features=[feature for feature in num_features if feature not in discrete_features]\n",
    "\n",
    "\n",
    "doc.add_heading(\"CLUSTER 1\",0)\n",
    "shape1=clust1.shape\n",
    "doc.add_paragraph(f\"{shape1}\")\n",
    "doc.add_heading(\"Descriptions of Categorical features\",1)\n",
    "\n",
    "for cat in cat_features :\n",
    "    doc.add_heading(f\"feature {cat}\",level=1)\n",
    "    value_counts = clust1[cat].value_counts()[:15]\n",
    "    for index,value in value_counts.items() :\n",
    "        doc.add_paragraph(f\"{index} - {value}\")\n",
    "    doc.add_paragraph(\"\\n\")\n",
    "\n",
    "\n",
    "doc.add_heading(\"Descriptions of Numerical features\",1)\n",
    "\n",
    "for num in discrete_features :\n",
    "    doc.add_heading(f\"feature {num}\",level=1)\n",
    "    value_counts = clust1[num].value_counts()\n",
    "    for index,value in value_counts.items() :\n",
    "        doc.add_paragraph(f\"{index} - {value}\")\n",
    "    doc.add_paragraph(\"\\n\")\n",
    "\n",
    "for num in continuous_features :\n",
    "    doc.add_heading(f\"feature {num}\",level=1)\n",
    "    describes = clust1[num].describe()\n",
    "    for index,value in describes.items() :\n",
    "        doc.add_paragraph(f\"{index} - {value}\")\n",
    "    doc.add_paragraph(\"\\n\")\n",
    "\n",
    "doc.save(\"description_weight2.docx\")"
   ]
  },
  {
   "cell_type": "code",
   "execution_count": null,
   "id": "168246f2-ea8e-4588-8387-fceeb5de577b",
   "metadata": {},
   "outputs": [],
   "source": []
  }
 ],
 "metadata": {
  "kernelspec": {
   "display_name": "Python 3 (ipykernel)",
   "language": "python",
   "name": "python3"
  },
  "language_info": {
   "codemirror_mode": {
    "name": "ipython",
    "version": 3
   },
   "file_extension": ".py",
   "mimetype": "text/x-python",
   "name": "python",
   "nbconvert_exporter": "python",
   "pygments_lexer": "ipython3",
   "version": "3.11.7"
  }
 },
 "nbformat": 4,
 "nbformat_minor": 5
}
