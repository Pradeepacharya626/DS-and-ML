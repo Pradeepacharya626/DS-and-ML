{
 "cells": [
  {
   "cell_type": "markdown",
   "id": "ee644e9a-cdb6-4872-a65b-36714950cb12",
   "metadata": {},
   "source": [
    "### Refferential"
   ]
  },
  {
   "cell_type": "code",
   "execution_count": null,
   "id": "c7a50c5b-9762-44c1-b377-4c95ca884856",
   "metadata": {},
   "outputs": [],
   "source": [
    "import sys\n",
    "\n",
    "a=[]\n",
    "\n",
    "print(sys.getfcount(a))"
   ]
  },
  {
   "cell_type": "code",
   "execution_count": null,
   "id": "2936c2a7-b0a3-4893-a34d-1515e45c1fcf",
   "metadata": {},
   "outputs": [],
   "source": []
  }
 ],
 "metadata": {
  "kernelspec": {
   "display_name": "Python 3 (ipykernel)",
   "language": "python",
   "name": "python3"
  },
  "language_info": {
   "name": ""
  }
 },
 "nbformat": 4,
 "nbformat_minor": 5
}
