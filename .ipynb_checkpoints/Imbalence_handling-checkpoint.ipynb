{
 "cells": [
  {
   "cell_type": "code",
   "execution_count": 1,
   "id": "ff1cd87d-9301-482e-88ca-313f4942520a",
   "metadata": {},
   "outputs": [],
   "source": [
    "import pandas as pd\n",
    "import numpy as np\n",
    "\n",
    "# set the random seed for producibility\n"
   ]
  },
  {
   "cell_type": "code",
   "execution_count": null,
   "id": "19ac0de7-9cb1-4980-8859-95084a4b83f1",
   "metadata": {},
   "outputs": [],
   "source": []
  }
 ],
 "metadata": {
  "kernelspec": {
   "display_name": "Python 3 (ipykernel)",
   "language": "python",
   "name": "python3"
  },
  "language_info": {
   "codemirror_mode": {
    "name": "ipython",
    "version": 3
   },
   "file_extension": ".py",
   "mimetype": "text/x-python",
   "name": "python",
   "nbconvert_exporter": "python",
   "pygments_lexer": "ipython3",
   "version": "3.11.7"
  }
 },
 "nbformat": 4,
 "nbformat_minor": 5
}
